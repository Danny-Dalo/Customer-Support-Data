{
 "cells": [
  {
   "cell_type": "code",
   "execution_count": 2,
   "metadata": {},
   "outputs": [],
   "source": [
    "import pandas as pd\n",
    "import seaborn as sns\n",
    "import matplotlib.pyplot as plt\n",
    "import plotly.express as px"
   ]
  },
  {
   "cell_type": "code",
   "execution_count": 3,
   "metadata": {},
   "outputs": [
    {
     "data": {
      "text/html": [
       "<div>\n",
       "<style scoped>\n",
       "    .dataframe tbody tr th:only-of-type {\n",
       "        vertical-align: middle;\n",
       "    }\n",
       "\n",
       "    .dataframe tbody tr th {\n",
       "        vertical-align: top;\n",
       "    }\n",
       "\n",
       "    .dataframe thead th {\n",
       "        text-align: right;\n",
       "    }\n",
       "</style>\n",
       "<table border=\"1\" class=\"dataframe\">\n",
       "  <thead>\n",
       "    <tr style=\"text-align: right;\">\n",
       "      <th></th>\n",
       "      <th>channel_name</th>\n",
       "      <th>category</th>\n",
       "      <th>sub-category</th>\n",
       "      <th>issue_reported_at</th>\n",
       "      <th>issue_responded</th>\n",
       "      <th>response_time_(hours)</th>\n",
       "      <th>response_time_(minutes)</th>\n",
       "      <th>response_time_(seconds)</th>\n",
       "      <th>time_of_issue</th>\n",
       "      <th>time_of_response</th>\n",
       "      <th>report_day_name</th>\n",
       "      <th>report_month_day</th>\n",
       "      <th>response_month_day</th>\n",
       "      <th>response_day_name</th>\n",
       "      <th>agent_name</th>\n",
       "      <th>supervisor</th>\n",
       "      <th>manager</th>\n",
       "      <th>tenure_bucket</th>\n",
       "      <th>agent_shift</th>\n",
       "      <th>csat_score</th>\n",
       "    </tr>\n",
       "  </thead>\n",
       "  <tbody>\n",
       "    <tr>\n",
       "      <th>0</th>\n",
       "      <td>Outcall</td>\n",
       "      <td>Product Queries</td>\n",
       "      <td>Life Insurance</td>\n",
       "      <td>2023-08-01 11:13:00</td>\n",
       "      <td>2023-08-01 11:47:00</td>\n",
       "      <td>0.566667</td>\n",
       "      <td>34.0</td>\n",
       "      <td>2040.0</td>\n",
       "      <td>11:13</td>\n",
       "      <td>11:47</td>\n",
       "      <td>Tuesday</td>\n",
       "      <td>1</td>\n",
       "      <td>1</td>\n",
       "      <td>Tuesday</td>\n",
       "      <td>Richard Buchanan</td>\n",
       "      <td>Mason Gupta</td>\n",
       "      <td>Jennifer Nguyen</td>\n",
       "      <td>On Job Training</td>\n",
       "      <td>Morning</td>\n",
       "      <td>5</td>\n",
       "    </tr>\n",
       "    <tr>\n",
       "      <th>1</th>\n",
       "      <td>Outcall</td>\n",
       "      <td>Product Queries</td>\n",
       "      <td>Product Specific Information</td>\n",
       "      <td>2023-08-01 12:52:00</td>\n",
       "      <td>2023-08-01 12:54:00</td>\n",
       "      <td>0.033333</td>\n",
       "      <td>2.0</td>\n",
       "      <td>120.0</td>\n",
       "      <td>12:52</td>\n",
       "      <td>12:54</td>\n",
       "      <td>Tuesday</td>\n",
       "      <td>1</td>\n",
       "      <td>1</td>\n",
       "      <td>Tuesday</td>\n",
       "      <td>Vicki Collins</td>\n",
       "      <td>Dylan Kim</td>\n",
       "      <td>Michael Lee</td>\n",
       "      <td>&gt;90</td>\n",
       "      <td>Morning</td>\n",
       "      <td>5</td>\n",
       "    </tr>\n",
       "    <tr>\n",
       "      <th>2</th>\n",
       "      <td>Inbound</td>\n",
       "      <td>Order Related</td>\n",
       "      <td>Installation/demo</td>\n",
       "      <td>2023-08-01 20:16:00</td>\n",
       "      <td>2023-08-01 20:38:00</td>\n",
       "      <td>0.366667</td>\n",
       "      <td>22.0</td>\n",
       "      <td>1320.0</td>\n",
       "      <td>20:16</td>\n",
       "      <td>20:38</td>\n",
       "      <td>Tuesday</td>\n",
       "      <td>1</td>\n",
       "      <td>1</td>\n",
       "      <td>Tuesday</td>\n",
       "      <td>Duane Norman</td>\n",
       "      <td>Jackson Park</td>\n",
       "      <td>William Kim</td>\n",
       "      <td>On Job Training</td>\n",
       "      <td>Evening</td>\n",
       "      <td>5</td>\n",
       "    </tr>\n",
       "    <tr>\n",
       "      <th>3</th>\n",
       "      <td>Inbound</td>\n",
       "      <td>Returns</td>\n",
       "      <td>Reverse Pickup Enquiry</td>\n",
       "      <td>2023-08-01 20:56:00</td>\n",
       "      <td>2023-08-01 21:16:00</td>\n",
       "      <td>0.333333</td>\n",
       "      <td>20.0</td>\n",
       "      <td>1200.0</td>\n",
       "      <td>20:56</td>\n",
       "      <td>21:16</td>\n",
       "      <td>Tuesday</td>\n",
       "      <td>1</td>\n",
       "      <td>1</td>\n",
       "      <td>Tuesday</td>\n",
       "      <td>Patrick Flores</td>\n",
       "      <td>Olivia Wang</td>\n",
       "      <td>John Smith</td>\n",
       "      <td>&gt;90</td>\n",
       "      <td>Evening</td>\n",
       "      <td>5</td>\n",
       "    </tr>\n",
       "    <tr>\n",
       "      <th>4</th>\n",
       "      <td>Inbound</td>\n",
       "      <td>Cancellation</td>\n",
       "      <td>Not Needed</td>\n",
       "      <td>2023-08-01 10:30:00</td>\n",
       "      <td>2023-08-01 10:32:00</td>\n",
       "      <td>0.033333</td>\n",
       "      <td>2.0</td>\n",
       "      <td>120.0</td>\n",
       "      <td>10:30</td>\n",
       "      <td>10:32</td>\n",
       "      <td>Tuesday</td>\n",
       "      <td>1</td>\n",
       "      <td>1</td>\n",
       "      <td>Tuesday</td>\n",
       "      <td>Christopher Sanchez</td>\n",
       "      <td>Austin Johnson</td>\n",
       "      <td>Michael Lee</td>\n",
       "      <td>0-30</td>\n",
       "      <td>Morning</td>\n",
       "      <td>5</td>\n",
       "    </tr>\n",
       "  </tbody>\n",
       "</table>\n",
       "</div>"
      ],
      "text/plain": [
       "  channel_name         category                  sub-category  \\\n",
       "0      Outcall  Product Queries                Life Insurance   \n",
       "1      Outcall  Product Queries  Product Specific Information   \n",
       "2      Inbound    Order Related             Installation/demo   \n",
       "3      Inbound          Returns        Reverse Pickup Enquiry   \n",
       "4      Inbound     Cancellation                    Not Needed   \n",
       "\n",
       "     issue_reported_at      issue_responded  response_time_(hours)  \\\n",
       "0  2023-08-01 11:13:00  2023-08-01 11:47:00               0.566667   \n",
       "1  2023-08-01 12:52:00  2023-08-01 12:54:00               0.033333   \n",
       "2  2023-08-01 20:16:00  2023-08-01 20:38:00               0.366667   \n",
       "3  2023-08-01 20:56:00  2023-08-01 21:16:00               0.333333   \n",
       "4  2023-08-01 10:30:00  2023-08-01 10:32:00               0.033333   \n",
       "\n",
       "   response_time_(minutes)  response_time_(seconds) time_of_issue  \\\n",
       "0                     34.0                   2040.0         11:13   \n",
       "1                      2.0                    120.0         12:52   \n",
       "2                     22.0                   1320.0         20:16   \n",
       "3                     20.0                   1200.0         20:56   \n",
       "4                      2.0                    120.0         10:30   \n",
       "\n",
       "  time_of_response report_day_name  report_month_day  response_month_day  \\\n",
       "0            11:47         Tuesday                 1                   1   \n",
       "1            12:54         Tuesday                 1                   1   \n",
       "2            20:38         Tuesday                 1                   1   \n",
       "3            21:16         Tuesday                 1                   1   \n",
       "4            10:32         Tuesday                 1                   1   \n",
       "\n",
       "  response_day_name           agent_name      supervisor          manager  \\\n",
       "0           Tuesday     Richard Buchanan     Mason Gupta  Jennifer Nguyen   \n",
       "1           Tuesday        Vicki Collins       Dylan Kim      Michael Lee   \n",
       "2           Tuesday         Duane Norman    Jackson Park      William Kim   \n",
       "3           Tuesday       Patrick Flores     Olivia Wang       John Smith   \n",
       "4           Tuesday  Christopher Sanchez  Austin Johnson      Michael Lee   \n",
       "\n",
       "     tenure_bucket agent_shift  csat_score  \n",
       "0  On Job Training     Morning           5  \n",
       "1              >90     Morning           5  \n",
       "2  On Job Training     Evening           5  \n",
       "3              >90     Evening           5  \n",
       "4             0-30     Morning           5  "
      ]
     },
     "execution_count": 3,
     "metadata": {},
     "output_type": "execute_result"
    }
   ],
   "source": [
    "processed_data = pd.read_csv(\"C:/Users/HP/OneDrive/Documents/DANNY DATA/Customer Support Data/Processed_customer_support_data.csv\")\n",
    "processed_data.head()"
   ]
  },
  {
   "cell_type": "code",
   "execution_count": 4,
   "metadata": {},
   "outputs": [
    {
     "data": {
      "text/plain": [
       "array(['On Job Training', '>90', '0-30', '31-60', '61-90'], dtype=object)"
      ]
     },
     "execution_count": 4,
     "metadata": {},
     "output_type": "execute_result"
    }
   ],
   "source": [
    "processed_data[\"tenure_bucket\"].unique()"
   ]
  },
  {
   "cell_type": "code",
   "execution_count": 5,
   "metadata": {},
   "outputs": [
    {
     "data": {
      "text/plain": [
       "Index(['channel_name', 'category', 'sub-category', 'issue_reported_at',\n",
       "       'issue_responded', 'response_time_(hours)', 'response_time_(minutes)',\n",
       "       'response_time_(seconds)', 'time_of_issue', 'time_of_response',\n",
       "       'report_day_name', 'report_month_day', 'response_month_day',\n",
       "       'response_day_name', 'agent_name', 'supervisor', 'manager',\n",
       "       'tenure_bucket', 'agent_shift', 'csat_score'],\n",
       "      dtype='object')"
      ]
     },
     "execution_count": 5,
     "metadata": {},
     "output_type": "execute_result"
    }
   ],
   "source": [
    "processed_data.columns"
   ]
  },
  {
   "cell_type": "code",
   "execution_count": 6,
   "metadata": {},
   "outputs": [],
   "source": [
    "import seaborn as sns\n",
    "import matplotlib.pyplot as plt\n",
    "\n",
    "def create_barplot(data, x_col, y_col, title=\"\", xlabel=\"\", ylabel=\"\", hue=None, figsize=(12, 6), palette=\"viridis\", show_values = True):\n",
    "    \"\"\"\n",
    "    Creates a consistent Seaborn bar plot.\n",
    "    \n",
    "    Parameters:\n",
    "    - data: DataFrame to use for the plot\n",
    "    - x_col: Column for the x-axis\n",
    "    - y_col: Column for the y-axis\n",
    "    - title: Title of the plot (default: \"\")\n",
    "    - xlabel: Label for the x-axis (default: \"\")\n",
    "    - ylabel: Label for the y-axis (default: \"\")\n",
    "    - hue: Column for color encoding (default: None)\n",
    "    - figsize: Tuple specifying figure size (default: (10, 6))\n",
    "    - palette: Color palette to use (default: \"viridis\")\n",
    "    \n",
    "    Returns:\n",
    "    - Displays the plot.\n",
    "    \"\"\"\n",
    "    plt.figure(figsize=figsize)\n",
    "    ax = sns.barplot(data=data, x=x_col, y=y_col, hue=hue, palette=palette, ci=None, width=0.5)\n",
    "\n",
    "    \n",
    "    plt.title(title, fontsize=14)\n",
    "\n",
    "    # automatically create x and y axis labels except otherwise types\n",
    "    plt.xlabel(xlabel if xlabel else \n",
    "               f\"{x_col}\".replace(\"_\", \" \").title(), fontsize=12)\n",
    "    \n",
    "    plt.ylabel(ylabel if ylabel else \n",
    "               f\"{y_col}\".replace(\"_\", \" \").title(), fontsize=12)\n",
    "\n",
    "\n",
    "    plt.xticks(rotation=45)\n",
    "    plt.tight_layout()\n",
    "    \n",
    "    \n",
    "    if show_values:\n",
    "        for p in ax.patches:\n",
    "            value = f\"{p.get_height():.2f}\"  # Format the height value\n",
    "            ax.annotate(value, \n",
    "                        (p.get_x() + p.get_width() / 2., p.get_height()), \n",
    "                        ha='center', va='bottom', fontsize=10, color='black')\n",
    "\n",
    "    plt.show()\n"
   ]
  },
  {
   "cell_type": "markdown",
   "metadata": {},
   "source": [
    "### Average CSAT Score BY Channel Name (barplot)"
   ]
  },
  {
   "cell_type": "code",
   "execution_count": 7,
   "metadata": {},
   "outputs": [
    {
     "name": "stderr",
     "output_type": "stream",
     "text": [
      "C:\\Users\\HP\\AppData\\Local\\Temp\\ipykernel_16364\\3832492136.py:23: FutureWarning: \n",
      "\n",
      "The `ci` parameter is deprecated. Use `errorbar=None` for the same effect.\n",
      "\n",
      "  ax = sns.barplot(data=data, x=x_col, y=y_col, hue=hue, palette=palette, ci=None, width=0.5)\n"
     ]
    },
    {
     "data": {
      "image/png": "[encoded data removed]",
      "text/plain": [
       "<Figure size 1200x600 with 1 Axes>"
      ]
     },
     "metadata": {},
     "output_type": "display_data"
    }
   ],
   "source": [
    "channel_name_by_avg_csat_score = processed_data.groupby(\"channel_name\")[\"csat_score\"].mean().reset_index()\n",
    "\n",
    "create_barplot(\n",
    "    data = channel_name_by_avg_csat_score,\n",
    "    x_col = \"channel_name\",\n",
    "    y_col = \"csat_score\",\n",
    "    title=\"Channel Name By Average CSAT Score\",\n",
    "    ylabel=\"Average CSAT Score\"\n",
    "     \n",
    ")"
   ]
  },
  {
   "cell_type": "code",
   "execution_count": 8,
   "metadata": {},
   "outputs": [
    {
     "name": "stderr",
     "output_type": "stream",
     "text": [
      "C:\\Users\\HP\\AppData\\Local\\Temp\\ipykernel_16364\\3832492136.py:23: FutureWarning: \n",
      "\n",
      "The `ci` parameter is deprecated. Use `errorbar=None` for the same effect.\n",
      "\n",
      "  ax = sns.barplot(data=data, x=x_col, y=y_col, hue=hue, palette=palette, ci=None, width=0.5)\n"
     ]
    },
    {
     "data": {
      "image/png": "[encoded data removed]",
      "text/plain": [
       "<Figure size 1200x600 with 1 Axes>"
      ]
     },
     "metadata": {},
     "output_type": "display_data"
    }
   ],
   "source": [
    "category_by_avg_csat_score = processed_data.groupby(\"category\")[\"csat_score\"].mean().reset_index()\n",
    "\n",
    "create_barplot(\n",
    "    category_by_avg_csat_score,\n",
    "    x_col=\"category\",\n",
    "    y_col=\"csat_score\",\n",
    "    title=\"Category by total CSAT Score\",\n",
    "    ylabel=\"Average CSAT Score\"\n",
    ")\n"
   ]
  },
  {
   "cell_type": "code",
   "execution_count": 9,
   "metadata": {},
   "outputs": [
    {
     "data": {
      "text/html": [
       "<div>\n",
       "<style scoped>\n",
       "    .dataframe tbody tr th:only-of-type {\n",
       "        vertical-align: middle;\n",
       "    }\n",
       "\n",
       "    .dataframe tbody tr th {\n",
       "        vertical-align: top;\n",
       "    }\n",
       "\n",
       "    .dataframe thead th {\n",
       "        text-align: right;\n",
       "    }\n",
       "</style>\n",
       "<table border=\"1\" class=\"dataframe\">\n",
       "  <thead>\n",
       "    <tr style=\"text-align: right;\">\n",
       "      <th></th>\n",
       "      <th>sub-category</th>\n",
       "      <th>csat_score</th>\n",
       "    </tr>\n",
       "  </thead>\n",
       "  <tbody>\n",
       "    <tr>\n",
       "      <th>0</th>\n",
       "      <td>Commission related</td>\n",
       "      <td>2.333333</td>\n",
       "    </tr>\n",
       "    <tr>\n",
       "      <th>1</th>\n",
       "      <td>Unable to Login</td>\n",
       "      <td>2.428571</td>\n",
       "    </tr>\n",
       "    <tr>\n",
       "      <th>2</th>\n",
       "      <td>Service Center - Service Denial</td>\n",
       "      <td>3.224138</td>\n",
       "    </tr>\n",
       "    <tr>\n",
       "      <th>3</th>\n",
       "      <td>Call disconnected</td>\n",
       "      <td>3.225000</td>\n",
       "    </tr>\n",
       "    <tr>\n",
       "      <th>4</th>\n",
       "      <td>Technician Visit</td>\n",
       "      <td>3.489418</td>\n",
       "    </tr>\n",
       "    <tr>\n",
       "      <th>5</th>\n",
       "      <td>Call back request</td>\n",
       "      <td>3.521739</td>\n",
       "    </tr>\n",
       "    <tr>\n",
       "      <th>6</th>\n",
       "      <td>Seller Cancelled Order</td>\n",
       "      <td>3.584514</td>\n",
       "    </tr>\n",
       "    <tr>\n",
       "      <th>7</th>\n",
       "      <td>Other Account Related Issues</td>\n",
       "      <td>3.636364</td>\n",
       "    </tr>\n",
       "    <tr>\n",
       "      <th>8</th>\n",
       "      <td>Others</td>\n",
       "      <td>3.666667</td>\n",
       "    </tr>\n",
       "    <tr>\n",
       "      <th>9</th>\n",
       "      <td>Warranty related</td>\n",
       "      <td>3.782051</td>\n",
       "    </tr>\n",
       "    <tr>\n",
       "      <th>10</th>\n",
       "      <td>Card/EMI</td>\n",
       "      <td>3.789474</td>\n",
       "    </tr>\n",
       "    <tr>\n",
       "      <th>11</th>\n",
       "      <td>Account updation</td>\n",
       "      <td>3.820000</td>\n",
       "    </tr>\n",
       "    <tr>\n",
       "      <th>12</th>\n",
       "      <td>Installation/demo</td>\n",
       "      <td>3.883139</td>\n",
       "    </tr>\n",
       "    <tr>\n",
       "      <th>13</th>\n",
       "      <td>e-Gift Voucher</td>\n",
       "      <td>3.904762</td>\n",
       "    </tr>\n",
       "    <tr>\n",
       "      <th>14</th>\n",
       "      <td>Not Needed</td>\n",
       "      <td>3.921875</td>\n",
       "    </tr>\n",
       "    <tr>\n",
       "      <th>15</th>\n",
       "      <td>COD Refund Details</td>\n",
       "      <td>3.952941</td>\n",
       "    </tr>\n",
       "    <tr>\n",
       "      <th>16</th>\n",
       "      <td>Policy Related</td>\n",
       "      <td>4.000000</td>\n",
       "    </tr>\n",
       "    <tr>\n",
       "      <th>17</th>\n",
       "      <td>Delayed</td>\n",
       "      <td>4.011505</td>\n",
       "    </tr>\n",
       "    <tr>\n",
       "      <th>18</th>\n",
       "      <td>Affiliate Offers</td>\n",
       "      <td>4.043716</td>\n",
       "    </tr>\n",
       "    <tr>\n",
       "      <th>19</th>\n",
       "      <td>Product Specific Information</td>\n",
       "      <td>4.044023</td>\n",
       "    </tr>\n",
       "    <tr>\n",
       "      <th>20</th>\n",
       "      <td>Exchange / Replacement</td>\n",
       "      <td>4.071429</td>\n",
       "    </tr>\n",
       "    <tr>\n",
       "      <th>21</th>\n",
       "      <td>Service Centres Related</td>\n",
       "      <td>4.118400</td>\n",
       "    </tr>\n",
       "    <tr>\n",
       "      <th>22</th>\n",
       "      <td>Refund Related Issues</td>\n",
       "      <td>4.136111</td>\n",
       "    </tr>\n",
       "    <tr>\n",
       "      <th>23</th>\n",
       "      <td>UnProfessional Behaviour</td>\n",
       "      <td>4.158675</td>\n",
       "    </tr>\n",
       "    <tr>\n",
       "      <th>24</th>\n",
       "      <td>Reverse Pickup Enquiry</td>\n",
       "      <td>4.189468</td>\n",
       "    </tr>\n",
       "    <tr>\n",
       "      <th>25</th>\n",
       "      <td>Other Cashback</td>\n",
       "      <td>4.200913</td>\n",
       "    </tr>\n",
       "    <tr>\n",
       "      <th>26</th>\n",
       "      <td>Self-Help</td>\n",
       "      <td>4.204082</td>\n",
       "    </tr>\n",
       "    <tr>\n",
       "      <th>27</th>\n",
       "      <td>Order status enquiry</td>\n",
       "      <td>4.210344</td>\n",
       "    </tr>\n",
       "    <tr>\n",
       "      <th>28</th>\n",
       "      <td>General Enquiry</td>\n",
       "      <td>4.210797</td>\n",
       "    </tr>\n",
       "    <tr>\n",
       "      <th>29</th>\n",
       "      <td>Order Verification</td>\n",
       "      <td>4.236111</td>\n",
       "    </tr>\n",
       "    <tr>\n",
       "      <th>30</th>\n",
       "      <td>Life Insurance</td>\n",
       "      <td>4.260870</td>\n",
       "    </tr>\n",
       "    <tr>\n",
       "      <th>31</th>\n",
       "      <td>Unable to track</td>\n",
       "      <td>4.268293</td>\n",
       "    </tr>\n",
       "    <tr>\n",
       "      <th>32</th>\n",
       "      <td>Payment related Queries</td>\n",
       "      <td>4.275908</td>\n",
       "    </tr>\n",
       "    <tr>\n",
       "      <th>33</th>\n",
       "      <td>Refund Enquiry</td>\n",
       "      <td>4.296811</td>\n",
       "    </tr>\n",
       "    <tr>\n",
       "      <th>34</th>\n",
       "      <td>Wallet related</td>\n",
       "      <td>4.330435</td>\n",
       "    </tr>\n",
       "    <tr>\n",
       "      <th>35</th>\n",
       "      <td>Shopzilla Rewards</td>\n",
       "      <td>4.350000</td>\n",
       "    </tr>\n",
       "    <tr>\n",
       "      <th>36</th>\n",
       "      <td>Seller onboarding</td>\n",
       "      <td>4.354839</td>\n",
       "    </tr>\n",
       "    <tr>\n",
       "      <th>37</th>\n",
       "      <td>App/website Related</td>\n",
       "      <td>4.400000</td>\n",
       "    </tr>\n",
       "    <tr>\n",
       "      <th>38</th>\n",
       "      <td>Issues with Shopzilla App</td>\n",
       "      <td>4.405405</td>\n",
       "    </tr>\n",
       "    <tr>\n",
       "      <th>39</th>\n",
       "      <td>Online Payment Issues</td>\n",
       "      <td>4.411492</td>\n",
       "    </tr>\n",
       "    <tr>\n",
       "      <th>40</th>\n",
       "      <td>Shopzila Premium Related</td>\n",
       "      <td>4.437673</td>\n",
       "    </tr>\n",
       "    <tr>\n",
       "      <th>41</th>\n",
       "      <td>Return cancellation</td>\n",
       "      <td>4.441781</td>\n",
       "    </tr>\n",
       "    <tr>\n",
       "      <th>42</th>\n",
       "      <td>PayLater related</td>\n",
       "      <td>4.442857</td>\n",
       "    </tr>\n",
       "    <tr>\n",
       "      <th>43</th>\n",
       "      <td>Priority delivery</td>\n",
       "      <td>4.453704</td>\n",
       "    </tr>\n",
       "    <tr>\n",
       "      <th>44</th>\n",
       "      <td>Invoice request</td>\n",
       "      <td>4.453925</td>\n",
       "    </tr>\n",
       "    <tr>\n",
       "      <th>45</th>\n",
       "      <td>Product related Issues</td>\n",
       "      <td>4.486339</td>\n",
       "    </tr>\n",
       "    <tr>\n",
       "      <th>46</th>\n",
       "      <td>Wrong</td>\n",
       "      <td>4.533308</td>\n",
       "    </tr>\n",
       "    <tr>\n",
       "      <th>47</th>\n",
       "      <td>Customer Requested Modifications</td>\n",
       "      <td>4.535404</td>\n",
       "    </tr>\n",
       "    <tr>\n",
       "      <th>48</th>\n",
       "      <td>Damaged</td>\n",
       "      <td>4.549474</td>\n",
       "    </tr>\n",
       "    <tr>\n",
       "      <th>49</th>\n",
       "      <td>Fraudulent User</td>\n",
       "      <td>4.594937</td>\n",
       "    </tr>\n",
       "    <tr>\n",
       "      <th>50</th>\n",
       "      <td>Return request</td>\n",
       "      <td>4.613282</td>\n",
       "    </tr>\n",
       "    <tr>\n",
       "      <th>51</th>\n",
       "      <td>Missing</td>\n",
       "      <td>4.613850</td>\n",
       "    </tr>\n",
       "    <tr>\n",
       "      <th>52</th>\n",
       "      <td>Billing Related</td>\n",
       "      <td>4.614035</td>\n",
       "    </tr>\n",
       "    <tr>\n",
       "      <th>53</th>\n",
       "      <td>Instant discount</td>\n",
       "      <td>4.628205</td>\n",
       "    </tr>\n",
       "    <tr>\n",
       "      <th>54</th>\n",
       "      <td>Payment pending</td>\n",
       "      <td>4.647059</td>\n",
       "    </tr>\n",
       "    <tr>\n",
       "      <th>55</th>\n",
       "      <td>Signup Issues</td>\n",
       "      <td>4.648262</td>\n",
       "    </tr>\n",
       "    <tr>\n",
       "      <th>56</th>\n",
       "      <td>Non Order related</td>\n",
       "      <td>5.000000</td>\n",
       "    </tr>\n",
       "  </tbody>\n",
       "</table>\n",
       "</div>"
      ],
      "text/plain": [
       "                        sub-category  csat_score\n",
       "0                 Commission related    2.333333\n",
       "1                    Unable to Login    2.428571\n",
       "2    Service Center - Service Denial    3.224138\n",
       "3                  Call disconnected    3.225000\n",
       "4                   Technician Visit    3.489418\n",
       "5                  Call back request    3.521739\n",
       "6             Seller Cancelled Order    3.584514\n",
       "7       Other Account Related Issues    3.636364\n",
       "8                             Others    3.666667\n",
       "9                   Warranty related    3.782051\n",
       "10                          Card/EMI    3.789474\n",
       "11                  Account updation    3.820000\n",
       "12                 Installation/demo    3.883139\n",
       "13                    e-Gift Voucher    3.904762\n",
       "14                        Not Needed    3.921875\n",
       "15                COD Refund Details    3.952941\n",
       "16                    Policy Related    4.000000\n",
       "17                           Delayed    4.011505\n",
       "18                  Affiliate Offers    4.043716\n",
       "19      Product Specific Information    4.044023\n",
       "20            Exchange / Replacement    4.071429\n",
       "21           Service Centres Related    4.118400\n",
       "22             Refund Related Issues    4.136111\n",
       "23          UnProfessional Behaviour    4.158675\n",
       "24            Reverse Pickup Enquiry    4.189468\n",
       "25                    Other Cashback    4.200913\n",
       "26                         Self-Help    4.204082\n",
       "27              Order status enquiry    4.210344\n",
       "28                   General Enquiry    4.210797\n",
       "29                Order Verification    4.236111\n",
       "30                    Life Insurance    4.260870\n",
       "31                   Unable to track    4.268293\n",
       "32           Payment related Queries    4.275908\n",
       "33                    Refund Enquiry    4.296811\n",
       "34                    Wallet related    4.330435\n",
       "35                 Shopzilla Rewards    4.350000\n",
       "36                 Seller onboarding    4.354839\n",
       "37               App/website Related    4.400000\n",
       "38         Issues with Shopzilla App    4.405405\n",
       "39             Online Payment Issues    4.411492\n",
       "40          Shopzila Premium Related    4.437673\n",
       "41               Return cancellation    4.441781\n",
       "42                  PayLater related    4.442857\n",
       "43                 Priority delivery    4.453704\n",
       "44                   Invoice request    4.453925\n",
       "45            Product related Issues    4.486339\n",
       "46                             Wrong    4.533308\n",
       "47  Customer Requested Modifications    4.535404\n",
       "48                           Damaged    4.549474\n",
       "49                   Fraudulent User    4.594937\n",
       "50                    Return request    4.613282\n",
       "51                           Missing    4.613850\n",
       "52                   Billing Related    4.614035\n",
       "53                  Instant discount    4.628205\n",
       "54                   Payment pending    4.647059\n",
       "55                     Signup Issues    4.648262\n",
       "56                 Non Order related    5.000000"
      ]
     },
     "execution_count": 9,
     "metadata": {},
     "output_type": "execute_result"
    }
   ],
   "source": [
    "# all subcategories and their average CSAT scores in ascending order\n",
    "sub_cat_csat_score = processed_data.groupby(\"sub-category\")[\"csat_score\"].mean().sort_values(ascending=True).reset_index()\n",
    "sub_cat_csat_score"
   ]
  },
  {
   "cell_type": "code",
   "execution_count": 10,
   "metadata": {},
   "outputs": [
    {
     "data": {
      "text/plain": [
       "Index(['channel_name', 'category', 'sub-category', 'issue_reported_at',\n",
       "       'issue_responded', 'response_time_(hours)', 'response_time_(minutes)',\n",
       "       'response_time_(seconds)', 'time_of_issue', 'time_of_response',\n",
       "       'report_day_name', 'report_month_day', 'response_month_day',\n",
       "       'response_day_name', 'agent_name', 'supervisor', 'manager',\n",
       "       'tenure_bucket', 'agent_shift', 'csat_score'],\n",
       "      dtype='object')"
      ]
     },
     "execution_count": 10,
     "metadata": {},
     "output_type": "execute_result"
    }
   ],
   "source": [
    "processed_data.columns"
   ]
  },
  {
   "cell_type": "code",
   "execution_count": 11,
   "metadata": {},
   "outputs": [],
   "source": [
    "time_of_issue = processed_data[\"time_of_issue\"].value_counts().sort_index()"
   ]
  },
  {
   "cell_type": "code",
   "execution_count": 12,
   "metadata": {},
   "outputs": [
    {
     "name": "stderr",
     "output_type": "stream",
     "text": [
      "C:\\Users\\HP\\AppData\\Local\\Temp\\ipykernel_16364\\2907247374.py:3: UserWarning: Could not infer format, so each element will be parsed individually, falling back to `dateutil`. To ensure parsing is consistent and as-expected, please specify a format.\n",
      "  time_of_issue = pd.to_datetime(processed_data['time_of_issue']).dt.hour\n",
      "C:\\Users\\HP\\AppData\\Local\\Temp\\ipykernel_16364\\2907247374.py:4: UserWarning: Could not infer format, so each element will be parsed individually, falling back to `dateutil`. To ensure parsing is consistent and as-expected, please specify a format.\n",
      "  time_of_response = pd.to_datetime(processed_data['time_of_response']).dt.hour\n"
     ]
    },
    {
     "data": {
      "application/vnd.plotly.v1+json": {
       "config": {
        "plotlyServerURL": "https://plot.ly"
       },
       "data": [
        {
         "hovertemplate": "Category=Issue Count<br>Hour of the Day=%{x}<br>Number of Entries=%{text}<extra></extra>",
         "legendgroup": "Issue Count",
         "line": {
          "color": "#636efa",
          "dash": "solid"
         },
         "marker": {
          "symbol": "circle"
         },
         "mode": "lines+text+markers",
         "name": "Issue Count",
         "orientation": "v",
         "showlegend": true,
         "text": [
          1520,
          414,
          140,
          89,
          74,
          165,
          928,
          2186,
          3482,
          4470,
          5488,
          5906,
          5862,
          5430,
          5382,
          4686,
          5606,
          5927,
          5780,
          5880,
          5635,
          4826,
          3633,
          2398
         ],
         "type": "scatter",
         "x": [
          "0:00",
          "1:00",
          "2:00",
          "3:00",
          "4:00",
          "5:00",
          "6:00",
          "7:00",
          "8:00",
          "9:00",
          "10:00",
          "11:00",
          "12:00",
          "13:00",
          "14:00",
          "15:00",
          "16:00",
          "17:00",
          "18:00",
          "19:00",
          "20:00",
          "21:00",
          "22:00",
          "23:00"
         ],
         "xaxis": "x",
         "y": [
          1520,
          414,
          140,
          89,
          74,
          165,
          928,
          2186,
          3482,
          4470,
          5488,
          5906,
          5862,
          5430,
          5382,
          4686,
          5606,
          5927,
          5780,
          5880,
          5635,
          4826,
          3633,
          2398
         ],
         "yaxis": "y"
        },
        {
         "hovertemplate": "Category=Response Count<br>Hour of the Day=%{x}<br>Number of Entries=%{text}<extra></extra>",
         "legendgroup": "Response Count",
         "line": {
          "color": "#EF553B",
          "dash": "solid"
         },
         "marker": {
          "symbol": "circle"
         },
         "mode": "lines+text+markers",
         "name": "Response Count",
         "orientation": "v",
         "showlegend": true,
         "text": [
          5175,
          660,
          251,
          150,
          151,
          275,
          972,
          2063,
          3143,
          4054,
          4884,
          5488,
          5528,
          5011,
          5109,
          4731,
          5141,
          5525,
          5285,
          5527,
          5380,
          4823,
          3822,
          2759
         ],
         "type": "scatter",
         "x": [
          "0:00",
          "1:00",
          "2:00",
          "3:00",
          "4:00",
          "5:00",
          "6:00",
          "7:00",
          "8:00",
          "9:00",
          "10:00",
          "11:00",
          "12:00",
          "13:00",
          "14:00",
          "15:00",
          "16:00",
          "17:00",
          "18:00",
          "19:00",
          "20:00",
          "21:00",
          "22:00",
          "23:00"
         ],
         "xaxis": "x",
         "y": [
          5175,
          660,
          251,
          150,
          151,
          275,
          972,
          2063,
          3143,
          4054,
          4884,
          5488,
          5528,
          5011,
          5109,
          4731,
          5141,
          5525,
          5285,
          5527,
          5380,
          4823,
          3822,
          2759
         ],
         "yaxis": "y"
        }
       ],
       "layout": {
        "legend": {
         "title": {
          "text": "Category"
         },
         "tracegroupgap": 0
        },
        "template": {
         "data": {
          "bar": [
           {
            "error_x": {
             "color": "#2a3f5f"
            },
            "error_y": {
             "color": "#2a3f5f"
            },
            "marker": {
             "line": {
              "color": "#E5ECF6",
              "width": 0.5
             },
             "pattern": {
              "fillmode": "overlay",
              "size": 10,
              "solidity": 0.2
             }
            },
            "type": "bar"
           }
          ],
          "barpolar": [
           {
            "marker": {
             "line": {
              "color": "#E5ECF6",
              "width": 0.5
             },
             "pattern": {
              "fillmode": "overlay",
              "size": 10,
              "solidity": 0.2
             }
            },
            "type": "barpolar"
           }
          ],
          "carpet": [
           {
            "aaxis": {
             "endlinecolor": "#2a3f5f",
             "gridcolor": "white",
             "linecolor": "white",
             "minorgridcolor": "white",
             "startlinecolor": "#2a3f5f"
            },
            "baxis": {
             "endlinecolor": "#2a3f5f",
             "gridcolor": "white",
             "linecolor": "white",
             "minorgridcolor": "white",
             "startlinecolor": "#2a3f5f"
            },
            "type": "carpet"
           }
          ],
          "choropleth": [
           {
            "colorbar": {
             "outlinewidth": 0,
             "ticks": ""
            },
            "type": "choropleth"
           }
          ],
          "contour": [
           {
            "colorbar": {
             "outlinewidth": 0,
             "ticks": ""
            },
            "colorscale": [
             [
              0,
              "#0d0887"
             ],
             [
              0.1111111111111111,
              "#46039f"
             ],
             [
              0.2222222222222222,
              "#7201a8"
             ],
             [
              0.3333333333333333,
              "#9c179e"
             ],
             [
              0.4444444444444444,
              "#bd3786"
             ],
             [
              0.5555555555555556,
              "#d8576b"
             ],
             [
              0.6666666666666666,
              "#ed7953"
             ],
             [
              0.7777777777777778,
              "#fb9f3a"
             ],
             [
              0.8888888888888888,
              "#fdca26"
             ],
             [
              1,
              "#f0f921"
             ]
            ],
            "type": "contour"
           }
          ],
          "contourcarpet": [
           {
            "colorbar": {
             "outlinewidth": 0,
             "ticks": ""
            },
            "type": "contourcarpet"
           }
          ],
          "heatmap": [
           {
            "colorbar": {
             "outlinewidth": 0,
             "ticks": ""
            },
            "colorscale": [
             [
              0,
              "#0d0887"
             ],
             [
              0.1111111111111111,
              "#46039f"
             ],
             [
              0.2222222222222222,
              "#7201a8"
             ],
             [
              0.3333333333333333,
              "#9c179e"
             ],
             [
              0.4444444444444444,
              "#bd3786"
             ],
             [
              0.5555555555555556,
              "#d8576b"
             ],
             [
              0.6666666666666666,
              "#ed7953"
             ],
             [
              0.7777777777777778,
              "#fb9f3a"
             ],
             [
              0.8888888888888888,
              "#fdca26"
             ],
             [
              1,
              "#f0f921"
             ]
            ],
            "type": "heatmap"
           }
          ],
          "heatmapgl": [
           {
            "colorbar": {
             "outlinewidth": 0,
             "ticks": ""
            },
            "colorscale": [
             [
              0,
              "#0d0887"
             ],
             [
              0.1111111111111111,
              "#46039f"
             ],
             [
              0.2222222222222222,
              "#7201a8"
             ],
             [
              0.3333333333333333,
              "#9c179e"
             ],
             [
              0.4444444444444444,
              "#bd3786"
             ],
             [
              0.5555555555555556,
              "#d8576b"
             ],
             [
              0.6666666666666666,
              "#ed7953"
             ],
             [
              0.7777777777777778,
              "#fb9f3a"
             ],
             [
              0.8888888888888888,
              "#fdca26"
             ],
             [
              1,
              "#f0f921"
             ]
            ],
            "type": "heatmapgl"
           }
          ],
          "histogram": [
           {
            "marker": {
             "pattern": {
              "fillmode": "overlay",
              "size": 10,
              "solidity": 0.2
             }
            },
            "type": "histogram"
           }
          ],
          "histogram2d": [
           {
            "colorbar": {
             "outlinewidth": 0,
             "ticks": ""
            },
            "colorscale": [
             [
              0,
              "#0d0887"
             ],
             [
              0.1111111111111111,
              "#46039f"
             ],
             [
              0.2222222222222222,
              "#7201a8"
             ],
             [
              0.3333333333333333,
              "#9c179e"
             ],
             [
              0.4444444444444444,
              "#bd3786"
             ],
             [
              0.5555555555555556,
              "#d8576b"
             ],
             [
              0.6666666666666666,
              "#ed7953"
             ],
             [
              0.7777777777777778,
              "#fb9f3a"
             ],
             [
              0.8888888888888888,
              "#fdca26"
             ],
             [
              1,
              "#f0f921"
             ]
            ],
            "type": "histogram2d"
           }
          ],
          "histogram2dcontour": [
           {
            "colorbar": {
             "outlinewidth": 0,
             "ticks": ""
            },
            "colorscale": [
             [
              0,
              "#0d0887"
             ],
             [
              0.1111111111111111,
              "#46039f"
             ],
             [
              0.2222222222222222,
              "#7201a8"
             ],
             [
              0.3333333333333333,
              "#9c179e"
             ],
             [
              0.4444444444444444,
              "#bd3786"
             ],
             [
              0.5555555555555556,
              "#d8576b"
             ],
             [
              0.6666666666666666,
              "#ed7953"
             ],
             [
              0.7777777777777778,
              "#fb9f3a"
             ],
             [
              0.8888888888888888,
              "#fdca26"
             ],
             [
              1,
              "#f0f921"
             ]
            ],
            "type": "histogram2dcontour"
           }
          ],
          "mesh3d": [
           {
            "colorbar": {
             "outlinewidth": 0,
             "ticks": ""
            },
            "type": "mesh3d"
           }
          ],
          "parcoords": [
           {
            "line": {
             "colorbar": {
              "outlinewidth": 0,
              "ticks": ""
             }
            },
            "type": "parcoords"
           }
          ],
          "pie": [
           {
            "automargin": true,
            "type": "pie"
           }
          ],
          "scatter": [
           {
            "fillpattern": {
             "fillmode": "overlay",
             "size": 10,
             "solidity": 0.2
            },
            "type": "scatter"
           }
          ],
          "scatter3d": [
           {
            "line": {
             "colorbar": {
              "outlinewidth": 0,
              "ticks": ""
             }
            },
            "marker": {
             "colorbar": {
              "outlinewidth": 0,
              "ticks": ""
             }
            },
            "type": "scatter3d"
           }
          ],
          "scattercarpet": [
           {
            "marker": {
             "colorbar": {
              "outlinewidth": 0,
              "ticks": ""
             }
            },
            "type": "scattercarpet"
           }
          ],
          "scattergeo": [
           {
            "marker": {
             "colorbar": {
              "outlinewidth": 0,
              "ticks": ""
             }
            },
            "type": "scattergeo"
           }
          ],
          "scattergl": [
           {
            "marker": {
             "colorbar": {
              "outlinewidth": 0,
              "ticks": ""
             }
            },
            "type": "scattergl"
           }
          ],
          "scattermapbox": [
           {
            "marker": {
             "colorbar": {
              "outlinewidth": 0,
              "ticks": ""
             }
            },
            "type": "scattermapbox"
           }
          ],
          "scatterpolar": [
           {
            "marker": {
             "colorbar": {
              "outlinewidth": 0,
              "ticks": ""
             }
            },
            "type": "scatterpolar"
           }
          ],
          "scatterpolargl": [
           {
            "marker": {
             "colorbar": {
              "outlinewidth": 0,
              "ticks": ""
             }
            },
            "type": "scatterpolargl"
           }
          ],
          "scatterternary": [
           {
            "marker": {
             "colorbar": {
              "outlinewidth": 0,
              "ticks": ""
             }
            },
            "type": "scatterternary"
           }
          ],
          "surface": [
           {
            "colorbar": {
             "outlinewidth": 0,
             "ticks": ""
            },
            "colorscale": [
             [
              0,
              "#0d0887"
             ],
             [
              0.1111111111111111,
              "#46039f"
             ],
             [
              0.2222222222222222,
              "#7201a8"
             ],
             [
              0.3333333333333333,
              "#9c179e"
             ],
             [
              0.4444444444444444,
              "#bd3786"
             ],
             [
              0.5555555555555556,
              "#d8576b"
             ],
             [
              0.6666666666666666,
              "#ed7953"
             ],
             [
              0.7777777777777778,
              "#fb9f3a"
             ],
             [
              0.8888888888888888,
              "#fdca26"
             ],
             [
              1,
              "#f0f921"
             ]
            ],
            "type": "surface"
           }
          ],
          "table": [
           {
            "cells": {
             "fill": {
              "color": "#EBF0F8"
             },
             "line": {
              "color": "white"
             }
            },
            "header": {
             "fill": {
              "color": "#C8D4E3"
             },
             "line": {
              "color": "white"
             }
            },
            "type": "table"
           }
          ]
         },
         "layout": {
          "annotationdefaults": {
           "arrowcolor": "#2a3f5f",
           "arrowhead": 0,
           "arrowwidth": 1
          },
          "autotypenumbers": "strict",
          "coloraxis": {
           "colorbar": {
            "outlinewidth": 0,
            "ticks": ""
           }
          },
          "colorscale": {
           "diverging": [
            [
             0,
             "#8e0152"
            ],
            [
             0.1,
             "#c51b7d"
            ],
            [
             0.2,
             "#de77ae"
            ],
            [
             0.3,
             "#f1b6da"
            ],
            [
             0.4,
             "#fde0ef"
            ],
            [
             0.5,
             "#f7f7f7"
            ],
            [
             0.6,
             "#e6f5d0"
            ],
            [
             0.7,
             "#b8e186"
            ],
            [
             0.8,
             "#7fbc41"
            ],
            [
             0.9,
             "#4d9221"
            ],
            [
             1,
             "#276419"
            ]
           ],
           "sequential": [
            [
             0,
             "#0d0887"
            ],
            [
             0.1111111111111111,
             "#46039f"
            ],
            [
             0.2222222222222222,
             "#7201a8"
            ],
            [
             0.3333333333333333,
             "#9c179e"
            ],
            [
             0.4444444444444444,
             "#bd3786"
            ],
            [
             0.5555555555555556,
             "#d8576b"
            ],
            [
             0.6666666666666666,
             "#ed7953"
            ],
            [
             0.7777777777777778,
             "#fb9f3a"
            ],
            [
             0.8888888888888888,
             "#fdca26"
            ],
            [
             1,
             "#f0f921"
            ]
           ],
           "sequentialminus": [
            [
             0,
             "#0d0887"
            ],
            [
             0.1111111111111111,
             "#46039f"
            ],
            [
             0.2222222222222222,
             "#7201a8"
            ],
            [
             0.3333333333333333,
             "#9c179e"
            ],
            [
             0.4444444444444444,
             "#bd3786"
            ],
            [
             0.5555555555555556,
             "#d8576b"
            ],
            [
             0.6666666666666666,
             "#ed7953"
            ],
            [
             0.7777777777777778,
             "#fb9f3a"
            ],
            [
             0.8888888888888888,
             "#fdca26"
            ],
            [
             1,
             "#f0f921"
            ]
           ]
          },
          "colorway": [
           "#636efa",
           "#EF553B",
           "#00cc96",
           "#ab63fa",
           "#FFA15A",
           "#19d3f3",
           "#FF6692",
           "#B6E880",
           "#FF97FF",
           "#FECB52"
          ],
          "font": {
           "color": "#2a3f5f"
          },
          "geo": {
           "bgcolor": "white",
           "lakecolor": "white",
           "landcolor": "#E5ECF6",
           "showlakes": true,
           "showland": true,
           "subunitcolor": "white"
          },
          "hoverlabel": {
           "align": "left"
          },
          "hovermode": "closest",
          "mapbox": {
           "style": "light"
          },
          "paper_bgcolor": "white",
          "plot_bgcolor": "#E5ECF6",
          "polar": {
           "angularaxis": {
            "gridcolor": "white",
            "linecolor": "white",
            "ticks": ""
           },
           "bgcolor": "#E5ECF6",
           "radialaxis": {
            "gridcolor": "white",
            "linecolor": "white",
            "ticks": ""
           }
          },
          "scene": {
           "xaxis": {
            "backgroundcolor": "#E5ECF6",
            "gridcolor": "white",
            "gridwidth": 2,
            "linecolor": "white",
            "showbackground": true,
            "ticks": "",
            "zerolinecolor": "white"
           },
           "yaxis": {
            "backgroundcolor": "#E5ECF6",
            "gridcolor": "white",
            "gridwidth": 2,
            "linecolor": "white",
            "showbackground": true,
            "ticks": "",
            "zerolinecolor": "white"
           },
           "zaxis": {
            "backgroundcolor": "#E5ECF6",
            "gridcolor": "white",
            "gridwidth": 2,
            "linecolor": "white",
            "showbackground": true,
            "ticks": "",
            "zerolinecolor": "white"
           }
          },
          "shapedefaults": {
           "line": {
            "color": "#2a3f5f"
           }
          },
          "ternary": {
           "aaxis": {
            "gridcolor": "white",
            "linecolor": "white",
            "ticks": ""
           },
           "baxis": {
            "gridcolor": "white",
            "linecolor": "white",
            "ticks": ""
           },
           "bgcolor": "#E5ECF6",
           "caxis": {
            "gridcolor": "white",
            "linecolor": "white",
            "ticks": ""
           }
          },
          "title": {
           "x": 0.05
          },
          "xaxis": {
           "automargin": true,
           "gridcolor": "white",
           "linecolor": "white",
           "ticks": "",
           "title": {
            "standoff": 15
           },
           "zerolinecolor": "white",
           "zerolinewidth": 2
          },
          "yaxis": {
           "automargin": true,
           "gridcolor": "white",
           "linecolor": "white",
           "ticks": "",
           "title": {
            "standoff": 15
           },
           "zerolinecolor": "white",
           "zerolinewidth": 2
          }
         }
        },
        "title": {
         "text": "Number of Issues Reported vs. Responses Per Hour"
        },
        "xaxis": {
         "anchor": "y",
         "domain": [
          0,
          1
         ],
         "dtick": 1,
         "title": {
          "text": "Hour of the Day"
         }
        },
        "yaxis": {
         "anchor": "x",
         "domain": [
          0,
          1
         ],
         "showgrid": true,
         "title": {
          "text": "Number of Entries"
         }
        }
       }
      }
     },
     "metadata": {},
     "output_type": "display_data"
    }
   ],
   "source": [
    "\n",
    "import plotly.express as px\n",
    "\n",
    "time_of_issue = pd.to_datetime(processed_data['time_of_issue']).dt.hour\n",
    "time_of_response = pd.to_datetime(processed_data['time_of_response']).dt.hour\n",
    "\n",
    "# issues reported for each hour\n",
    "issue_counts = time_of_issue.value_counts().sort_index().reset_index()\n",
    "issue_counts.columns = ['Hour', 'Issue Count']\n",
    "\n",
    "# responses for each hour\n",
    "response_counts = time_of_response.value_counts().sort_index().reset_index()\n",
    "response_counts.columns = ['Hour', 'Response Count']\n",
    "\n",
    "# Merge the two datasets for comparison\n",
    "comparison_df = pd.merge(\n",
    "    issue_counts,\n",
    "    response_counts,\n",
    "    on='Hour',\n",
    "    how='outer'\n",
    ").fillna(0)  \n",
    "\n",
    "\n",
    "comparison_df['Hour'] = comparison_df['Hour'].astype(int).astype(str) + \":00\"\n",
    "\n",
    "melted_df = comparison_df.melt(id_vars='Hour', var_name='Type', value_name='Count')\n",
    "\n",
    "# line chart\n",
    "fig = px.line(\n",
    "    melted_df,\n",
    "    x='Hour',\n",
    "    y='Count',\n",
    "    color='Type',\n",
    "    text='Count',\n",
    "    title='Number of Issues Reported vs. Responses Per Hour',\n",
    "    labels={'Hour': 'Hour of the Day', 'Count': 'Number of Entries', 'Type': 'Category'},\n",
    "    template='plotly'\n",
    ")\n",
    "\n",
    "fig.update_layout(\n",
    "    xaxis=dict(dtick=1),  # Ensure ticks are at every hour\n",
    "    yaxis=dict(showgrid=True),\n",
    "   \n",
    ")"
   ]
  },
  {
   "cell_type": "code",
   "execution_count": 13,
   "metadata": {},
   "outputs": [
    {
     "data": {
      "image/png": "[encoded data removed]",
      "text/plain": [
       "<Figure size 1000x600 with 1 Axes>"
      ]
     },
     "metadata": {},
     "output_type": "display_data"
    }
   ],
   "source": [
    "plt.figure(figsize=(10, 6))\n",
    "sns.boxplot(processed_data, x=\"csat_score\", y=\"response_time_(minutes)\")\n",
    "\n",
    "# plt.yl\n",
    "plt.show()"
   ]
  },
  {
   "cell_type": "markdown",
   "metadata": {},
   "source": [
    "__The box plot above shows us that customers with a CSAT score of 5 experience the smallest response times out of all while those with a CSAT score of 1 experirnce longer response times__"
   ]
  },
  {
   "cell_type": "code",
   "execution_count": 14,
   "metadata": {},
   "outputs": [
    {
     "name": "stderr",
     "output_type": "stream",
     "text": [
      "C:\\Users\\HP\\AppData\\Local\\Temp\\ipykernel_16364\\2952346572.py:1: UserWarning:\n",
      "\n",
      "Could not infer format, so each element will be parsed individually, falling back to `dateutil`. To ensure parsing is consistent and as-expected, please specify a format.\n",
      "\n",
      "C:\\Users\\HP\\AppData\\Local\\Temp\\ipykernel_16364\\2952346572.py:2: UserWarning:\n",
      "\n",
      "Could not infer format, so each element will be parsed individually, falling back to `dateutil`. To ensure parsing is consistent and as-expected, please specify a format.\n",
      "\n"
     ]
    },
    {
     "data": {
      "text/html": [
       "<div>\n",
       "<style scoped>\n",
       "    .dataframe tbody tr th:only-of-type {\n",
       "        vertical-align: middle;\n",
       "    }\n",
       "\n",
       "    .dataframe tbody tr th {\n",
       "        vertical-align: top;\n",
       "    }\n",
       "\n",
       "    .dataframe thead th {\n",
       "        text-align: right;\n",
       "    }\n",
       "</style>\n",
       "<table border=\"1\" class=\"dataframe\">\n",
       "  <thead>\n",
       "    <tr style=\"text-align: right;\">\n",
       "      <th></th>\n",
       "      <th>resp1</th>\n",
       "      <th>resp2</th>\n",
       "    </tr>\n",
       "  </thead>\n",
       "  <tbody>\n",
       "    <tr>\n",
       "      <th>0</th>\n",
       "      <td>13</td>\n",
       "      <td>47</td>\n",
       "    </tr>\n",
       "    <tr>\n",
       "      <th>1</th>\n",
       "      <td>52</td>\n",
       "      <td>54</td>\n",
       "    </tr>\n",
       "    <tr>\n",
       "      <th>2</th>\n",
       "      <td>16</td>\n",
       "      <td>38</td>\n",
       "    </tr>\n",
       "    <tr>\n",
       "      <th>3</th>\n",
       "      <td>56</td>\n",
       "      <td>16</td>\n",
       "    </tr>\n",
       "    <tr>\n",
       "      <th>4</th>\n",
       "      <td>30</td>\n",
       "      <td>32</td>\n",
       "    </tr>\n",
       "    <tr>\n",
       "      <th>...</th>\n",
       "      <td>...</td>\n",
       "      <td>...</td>\n",
       "    </tr>\n",
       "    <tr>\n",
       "      <th>85902</th>\n",
       "      <td>20</td>\n",
       "      <td>22</td>\n",
       "    </tr>\n",
       "    <tr>\n",
       "      <th>85903</th>\n",
       "      <td>15</td>\n",
       "      <td>17</td>\n",
       "    </tr>\n",
       "    <tr>\n",
       "      <th>85904</th>\n",
       "      <td>57</td>\n",
       "      <td>2</td>\n",
       "    </tr>\n",
       "    <tr>\n",
       "      <th>85905</th>\n",
       "      <td>59</td>\n",
       "      <td>0</td>\n",
       "    </tr>\n",
       "    <tr>\n",
       "      <th>85906</th>\n",
       "      <td>36</td>\n",
       "      <td>37</td>\n",
       "    </tr>\n",
       "  </tbody>\n",
       "</table>\n",
       "<p>85907 rows × 2 columns</p>\n",
       "</div>"
      ],
      "text/plain": [
       "       resp1  resp2\n",
       "0         13     47\n",
       "1         52     54\n",
       "2         16     38\n",
       "3         56     16\n",
       "4         30     32\n",
       "...      ...    ...\n",
       "85902     20     22\n",
       "85903     15     17\n",
       "85904     57      2\n",
       "85905     59      0\n",
       "85906     36     37\n",
       "\n",
       "[85907 rows x 2 columns]"
      ]
     },
     "execution_count": 14,
     "metadata": {},
     "output_type": "execute_result"
    }
   ],
   "source": [
    "speed_of_issue = pd.to_datetime(processed_data['time_of_issue']).dt.minute\n",
    "speed_of_response = pd.to_datetime(processed_data['time_of_response']).dt.minute\n",
    "\n",
    "response_speed = list(zip(speed_of_issue, speed_of_response))\n",
    "speed_df = pd.DataFrame(\n",
    "    {\"resp1\" : [i[0] for i in response_speed],\n",
    "     \n",
    "    \"resp2\" : [i[1] for i in response_speed]\n",
    "    }\n",
    ")\n",
    "\n",
    "speed_df"
   ]
  },
  {
   "cell_type": "code",
   "execution_count": 15,
   "metadata": {},
   "outputs": [
    {
     "data": {
      "text/html": [
       "<div>\n",
       "<style scoped>\n",
       "    .dataframe tbody tr th:only-of-type {\n",
       "        vertical-align: middle;\n",
       "    }\n",
       "\n",
       "    .dataframe tbody tr th {\n",
       "        vertical-align: top;\n",
       "    }\n",
       "\n",
       "    .dataframe thead th {\n",
       "        text-align: right;\n",
       "    }\n",
       "</style>\n",
       "<table border=\"1\" class=\"dataframe\">\n",
       "  <thead>\n",
       "    <tr style=\"text-align: right;\">\n",
       "      <th></th>\n",
       "      <th>time_of_issue</th>\n",
       "      <th>time_of_response</th>\n",
       "      <th>response_time_(minutes)</th>\n",
       "    </tr>\n",
       "  </thead>\n",
       "  <tbody>\n",
       "    <tr>\n",
       "      <th>23525</th>\n",
       "      <td>22:06</td>\n",
       "      <td>22:04</td>\n",
       "      <td>5758.0</td>\n",
       "    </tr>\n",
       "    <tr>\n",
       "      <th>5597</th>\n",
       "      <td>11:32</td>\n",
       "      <td>11:14</td>\n",
       "      <td>5742.0</td>\n",
       "    </tr>\n",
       "    <tr>\n",
       "      <th>30734</th>\n",
       "      <td>16:58</td>\n",
       "      <td>16:35</td>\n",
       "      <td>5737.0</td>\n",
       "    </tr>\n",
       "    <tr>\n",
       "      <th>41735</th>\n",
       "      <td>17:40</td>\n",
       "      <td>17:14</td>\n",
       "      <td>5734.0</td>\n",
       "    </tr>\n",
       "    <tr>\n",
       "      <th>27587</th>\n",
       "      <td>18:31</td>\n",
       "      <td>18:00</td>\n",
       "      <td>5729.0</td>\n",
       "    </tr>\n",
       "    <tr>\n",
       "      <th>...</th>\n",
       "      <td>...</td>\n",
       "      <td>...</td>\n",
       "      <td>...</td>\n",
       "    </tr>\n",
       "    <tr>\n",
       "      <th>77299</th>\n",
       "      <td>23:48</td>\n",
       "      <td>00:00</td>\n",
       "      <td>-1428.0</td>\n",
       "    </tr>\n",
       "    <tr>\n",
       "      <th>75665</th>\n",
       "      <td>23:53</td>\n",
       "      <td>00:00</td>\n",
       "      <td>-1433.0</td>\n",
       "    </tr>\n",
       "    <tr>\n",
       "      <th>75053</th>\n",
       "      <td>23:55</td>\n",
       "      <td>00:00</td>\n",
       "      <td>-1435.0</td>\n",
       "    </tr>\n",
       "    <tr>\n",
       "      <th>74420</th>\n",
       "      <td>23:56</td>\n",
       "      <td>00:00</td>\n",
       "      <td>-1436.0</td>\n",
       "    </tr>\n",
       "    <tr>\n",
       "      <th>75692</th>\n",
       "      <td>23:57</td>\n",
       "      <td>00:00</td>\n",
       "      <td>-1437.0</td>\n",
       "    </tr>\n",
       "  </tbody>\n",
       "</table>\n",
       "<p>85907 rows × 3 columns</p>\n",
       "</div>"
      ],
      "text/plain": [
       "      time_of_issue time_of_response  response_time_(minutes)\n",
       "23525         22:06            22:04                   5758.0\n",
       "5597          11:32            11:14                   5742.0\n",
       "30734         16:58            16:35                   5737.0\n",
       "41735         17:40            17:14                   5734.0\n",
       "27587         18:31            18:00                   5729.0\n",
       "...             ...              ...                      ...\n",
       "77299         23:48            00:00                  -1428.0\n",
       "75665         23:53            00:00                  -1433.0\n",
       "75053         23:55            00:00                  -1435.0\n",
       "74420         23:56            00:00                  -1436.0\n",
       "75692         23:57            00:00                  -1437.0\n",
       "\n",
       "[85907 rows x 3 columns]"
      ]
     },
     "execution_count": 15,
     "metadata": {},
     "output_type": "execute_result"
    }
   ],
   "source": [
    "\n",
    "processed_data[[\"time_of_issue\", \"time_of_response\", \"response_time_(minutes)\"]].sort_values(ascending=False, by=\"response_time_(minutes)\")"
   ]
  },
  {
   "cell_type": "code",
   "execution_count": null,
   "metadata": {},
   "outputs": [
    {
     "name": "stderr",
     "output_type": "stream",
     "text": [
      "c:\\Users\\HP\\anaconda3\\lib\\site-packages\\seaborn\\matrix.py:260: FutureWarning:\n",
      "\n",
      "Format strings passed to MaskedConstant are ignored, but in future may error or produce different behavior\n",
      "\n"
     ]
    },
    {
     "data": {
      "image/png": "[encoded data removed]",
      "text/plain": [
       "<Figure size 1000x600 with 2 Axes>"
      ]
     },
     "metadata": {},
     "output_type": "display_data"
    }
   ],
   "source": [
    "\n",
    "grouped_data = processed_data.groupby([\"report_day_name\", \"response_day_name\"])[\"csat_score\"].mean().reset_index()\n",
    "\n",
    "# Create a pivot table for easier plotting\n",
    "pivot_table = grouped_data.pivot_table(index=\"report_day_name\", columns=\"response_day_name\", values=\"csat_score\")\n",
    "\n",
    "# Create a heatmap\n",
    "plt.figure(figsize=(10, 6))\n",
    "sns.heatmap(pivot_table, annot=True, fmt=\".2f\", cmap=\"coolwarm\", linewidths=0.5)\n",
    "\n",
    "# Set labels and title\n",
    "plt.xlabel(\"Response Day\")\n",
    "plt.ylabel(\"Report Day\")\n",
    "plt.title(\"Average CSAT Score by Report Day and Response Day\")\n",
    "\n",
    "# Rotate x-axis labels for better readability\n",
    "plt.xticks(rotation=45)\n",
    "\n",
    "plt.show()"
   ]
  },
  {
   "cell_type": "code",
   "execution_count": 17,
   "metadata": {},
   "outputs": [],
   "source": [
    "processed_data.to_csv(\"C:/Users/HP/OneDrive/Documents/DANNY DATA/Customer Support Data/model_data.csv\", index=False)"
   ]
  },
  {
   "cell_type": "code",
   "execution_count": null,
   "metadata": {},
   "outputs": [],
   "source": []
  },
  {
   "cell_type": "code",
   "execution_count": null,
   "metadata": {},
   "outputs": [],
   "source": []
  }
 ],
 "metadata": {
  "kernelspec": {
   "display_name": "base",
   "language": "python",
   "name": "python3"
  },
  "language_info": {
   "codemirror_mode": {
    "name": "ipython",
    "version": 3
   },
   "file_extension": ".py",
   "mimetype": "text/x-python",
   "name": "python",
   "nbconvert_exporter": "python",
   "pygments_lexer": "ipython3",
   "version": "3.10.9"
  }
 },
 "nbformat": 4,
 "nbformat_minor": 2
}
