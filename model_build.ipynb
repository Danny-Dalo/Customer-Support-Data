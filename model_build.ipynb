{
 "cells": [
  {
   "cell_type": "markdown",
   "metadata": {},
   "source": [
    "## Building out a model"
   ]
  },
  {
   "cell_type": "code",
   "execution_count": 822,
   "metadata": {},
   "outputs": [],
   "source": [
    "import pandas as pd\n",
    "import matplotlib.pylab as plt\n",
    "import numpy as np\n",
    "import seaborn as sns\n",
    "import warnings\n",
    "warnings.filterwarnings('ignore')\n",
    "\n",
    "from sklearn.preprocessing import OneHotEncoder, LabelEncoder, StandardScaler\n",
    "from sklearn.model_selection import train_test_split, GridSearchCV\n",
    "from sklearn.ensemble import RandomForestClassifier\n",
    "from sklearn.metrics import accuracy_score, confusion_matrix, classification_report, ConfusionMatrixDisplay\n",
    "from sklearn.linear_model import LogisticRegression\n",
    "from xgboost import XGBClassifier\n",
    "\n"
   ]
  },
  {
   "cell_type": "code",
   "execution_count": 823,
   "metadata": {},
   "outputs": [],
   "source": [
    "model_features = pd.read_csv(\"C:/Users/HP/OneDrive/Documents/DANNY DATA/Customer Support Data/model_data.csv\")"
   ]
  },
  {
   "cell_type": "code",
   "execution_count": 824,
   "metadata": {},
   "outputs": [
    {
     "data": {
      "text/html": [
       "<div>\n",
       "<style scoped>\n",
       "    .dataframe tbody tr th:only-of-type {\n",
       "        vertical-align: middle;\n",
       "    }\n",
       "\n",
       "    .dataframe tbody tr th {\n",
       "        vertical-align: top;\n",
       "    }\n",
       "\n",
       "    .dataframe thead th {\n",
       "        text-align: right;\n",
       "    }\n",
       "</style>\n",
       "<table border=\"1\" class=\"dataframe\">\n",
       "  <thead>\n",
       "    <tr style=\"text-align: right;\">\n",
       "      <th></th>\n",
       "      <th>channel_name</th>\n",
       "      <th>response_time_(hours)</th>\n",
       "      <th>report_day_name</th>\n",
       "      <th>report_month_day</th>\n",
       "      <th>response_month_day</th>\n",
       "      <th>response_day_name</th>\n",
       "      <th>manager</th>\n",
       "      <th>tenure_bucket</th>\n",
       "      <th>agent_shift</th>\n",
       "      <th>csat_score</th>\n",
       "    </tr>\n",
       "  </thead>\n",
       "  <tbody>\n",
       "    <tr>\n",
       "      <th>0</th>\n",
       "      <td>Outcall</td>\n",
       "      <td>0.566667</td>\n",
       "      <td>Tuesday</td>\n",
       "      <td>1</td>\n",
       "      <td>1</td>\n",
       "      <td>Tuesday</td>\n",
       "      <td>Jennifer Nguyen</td>\n",
       "      <td>On Job Training</td>\n",
       "      <td>Morning</td>\n",
       "      <td>5</td>\n",
       "    </tr>\n",
       "    <tr>\n",
       "      <th>1</th>\n",
       "      <td>Outcall</td>\n",
       "      <td>0.033333</td>\n",
       "      <td>Tuesday</td>\n",
       "      <td>1</td>\n",
       "      <td>1</td>\n",
       "      <td>Tuesday</td>\n",
       "      <td>Michael Lee</td>\n",
       "      <td>&gt;90</td>\n",
       "      <td>Morning</td>\n",
       "      <td>5</td>\n",
       "    </tr>\n",
       "    <tr>\n",
       "      <th>2</th>\n",
       "      <td>Inbound</td>\n",
       "      <td>0.366667</td>\n",
       "      <td>Tuesday</td>\n",
       "      <td>1</td>\n",
       "      <td>1</td>\n",
       "      <td>Tuesday</td>\n",
       "      <td>William Kim</td>\n",
       "      <td>On Job Training</td>\n",
       "      <td>Evening</td>\n",
       "      <td>5</td>\n",
       "    </tr>\n",
       "    <tr>\n",
       "      <th>3</th>\n",
       "      <td>Inbound</td>\n",
       "      <td>0.333333</td>\n",
       "      <td>Tuesday</td>\n",
       "      <td>1</td>\n",
       "      <td>1</td>\n",
       "      <td>Tuesday</td>\n",
       "      <td>John Smith</td>\n",
       "      <td>&gt;90</td>\n",
       "      <td>Evening</td>\n",
       "      <td>5</td>\n",
       "    </tr>\n",
       "    <tr>\n",
       "      <th>4</th>\n",
       "      <td>Inbound</td>\n",
       "      <td>0.033333</td>\n",
       "      <td>Tuesday</td>\n",
       "      <td>1</td>\n",
       "      <td>1</td>\n",
       "      <td>Tuesday</td>\n",
       "      <td>Michael Lee</td>\n",
       "      <td>0-30</td>\n",
       "      <td>Morning</td>\n",
       "      <td>5</td>\n",
       "    </tr>\n",
       "  </tbody>\n",
       "</table>\n",
       "</div>"
      ],
      "text/plain": [
       "  channel_name  response_time_(hours) report_day_name  report_month_day  \\\n",
       "0      Outcall               0.566667         Tuesday                 1   \n",
       "1      Outcall               0.033333         Tuesday                 1   \n",
       "2      Inbound               0.366667         Tuesday                 1   \n",
       "3      Inbound               0.333333         Tuesday                 1   \n",
       "4      Inbound               0.033333         Tuesday                 1   \n",
       "\n",
       "   response_month_day response_day_name          manager    tenure_bucket  \\\n",
       "0                   1           Tuesday  Jennifer Nguyen  On Job Training   \n",
       "1                   1           Tuesday      Michael Lee              >90   \n",
       "2                   1           Tuesday      William Kim  On Job Training   \n",
       "3                   1           Tuesday       John Smith              >90   \n",
       "4                   1           Tuesday      Michael Lee             0-30   \n",
       "\n",
       "  agent_shift  csat_score  \n",
       "0     Morning           5  \n",
       "1     Morning           5  \n",
       "2     Evening           5  \n",
       "3     Evening           5  \n",
       "4     Morning           5  "
      ]
     },
     "execution_count": 824,
     "metadata": {},
     "output_type": "execute_result"
    }
   ],
   "source": [
    "columns_to_drop = [\"category\", \"sub-category\", \"issue_reported_at\", \"issue_responded\", \"response_time_(minutes)\", \n",
    "                   \"response_time_(seconds)\", \"time_of_issue\", \"time_of_response\", \"agent_name\", \"supervisor\"]\n",
    "\n",
    "model_features.drop(columns=columns_to_drop, axis=1, inplace=True)\n",
    "model_features.head()"
   ]
  },
  {
   "cell_type": "code",
   "execution_count": 825,
   "metadata": {},
   "outputs": [
    {
     "data": {
      "text/plain": [
       "Index(['channel_name', 'response_time_(hours)', 'report_day_name',\n",
       "       'report_month_day', 'response_month_day', 'response_day_name',\n",
       "       'manager', 'tenure_bucket', 'agent_shift', 'csat_score'],\n",
       "      dtype='object')"
      ]
     },
     "execution_count": 825,
     "metadata": {},
     "output_type": "execute_result"
    }
   ],
   "source": [
    "model_features.columns"
   ]
  },
  {
   "cell_type": "code",
   "execution_count": 826,
   "metadata": {},
   "outputs": [],
   "source": [
    "from sklearn.preprocessing import LabelEncoder, StandardScaler\n",
    "label_encoder = LabelEncoder()"
   ]
  },
  {
   "cell_type": "code",
   "execution_count": 827,
   "metadata": {},
   "outputs": [],
   "source": [
    "# scaling the numerical features\n",
    "scale_features = [\"response_time_(hours)\", \"report_month_day\", \"response_month_day\"]\n",
    "scaler = StandardScaler()\n",
    "model_features[scale_features] = scaler.fit_transform(model_features[scale_features])\n",
    "\n",
    "# encoding the categorical features\n",
    "model_features = pd.get_dummies(model_features, columns=[\"channel_name\", \"manager\", \"agent_shift\", \"report_day_name\", \"response_day_name\"])\n",
    "\n",
    "model_features[\"tenure_bucket\"] = label_encoder.fit_transform(model_features[\"tenure_bucket\"])"
   ]
  },
  {
   "cell_type": "code",
   "execution_count": 828,
   "metadata": {},
   "outputs": [
    {
     "data": {
      "text/plain": [
       "Index(['response_time_(hours)', 'report_month_day', 'response_month_day',\n",
       "       'tenure_bucket', 'csat_score', 'channel_name_Email',\n",
       "       'channel_name_Inbound', 'channel_name_Outcall', 'manager_Emily Chen',\n",
       "       'manager_Jennifer Nguyen', 'manager_John Smith', 'manager_Michael Lee',\n",
       "       'manager_Olivia Tan', 'manager_William Kim', 'agent_shift_Afternoon',\n",
       "       'agent_shift_Evening', 'agent_shift_Morning', 'agent_shift_Night',\n",
       "       'agent_shift_Split', 'report_day_name_Friday', 'report_day_name_Monday',\n",
       "       'report_day_name_Saturday', 'report_day_name_Sunday',\n",
       "       'report_day_name_Thursday', 'report_day_name_Tuesday',\n",
       "       'report_day_name_Wednesday', 'response_day_name_Friday',\n",
       "       'response_day_name_Monday', 'response_day_name_Saturday',\n",
       "       'response_day_name_Sunday', 'response_day_name_Thursday',\n",
       "       'response_day_name_Tuesday', 'response_day_name_Wednesday'],\n",
       "      dtype='object')"
      ]
     },
     "execution_count": 828,
     "metadata": {},
     "output_type": "execute_result"
    }
   ],
   "source": [
    "model_features.columns"
   ]
  },
  {
   "cell_type": "markdown",
   "metadata": {},
   "source": [
    "__Createda new column 'csat_binary', that transforms our target feature from 5 to 2 classes based on a function__"
   ]
  },
  {
   "cell_type": "code",
   "execution_count": 829,
   "metadata": {},
   "outputs": [],
   "source": [
    "model_features[\"csat_binary\"] = model_features[\"csat_score\"].apply(lambda x: 1 if x > 3.7 else 0) # Binary classification\n",
    "\n",
    "model_features.drop(columns=[\"csat_score\"], axis=1, inplace=True) # Drop column to  avoid data leakage and overfitting"
   ]
  },
  {
   "cell_type": "code",
   "execution_count": 830,
   "metadata": {},
   "outputs": [
    {
     "data": {
      "text/plain": [
       "((68725, 32), (17182, 32), (68725,), (17182,))"
      ]
     },
     "execution_count": 830,
     "metadata": {},
     "output_type": "execute_result"
    }
   ],
   "source": [
    "X = model_features.drop(columns=[\"csat_binary\"], axis=1)\n",
    "y = model_features[\"csat_binary\"]\n",
    "\n",
    "X_train, X_test, y_train, y_test = train_test_split(X, y, test_size=0.2, random_state=42)\n",
    "\n",
    "X_train.shape, X_test.shape, y_train.shape, y_test.shape"
   ]
  },
  {
   "cell_type": "code",
   "execution_count": 831,
   "metadata": {},
   "outputs": [
    {
     "name": "stdout",
     "output_type": "stream",
     "text": [
      "              precision    recall  f1-score   support\n",
      "\n",
      "           0       0.40      0.04      0.07      2971\n",
      "           1       0.83      0.99      0.90     14211\n",
      "\n",
      "    accuracy                           0.82     17182\n",
      "   macro avg       0.61      0.51      0.48     17182\n",
      "weighted avg       0.76      0.82      0.76     17182\n",
      "\n"
     ]
    },
    {
     "data": {
      "text/plain": [
       "<sklearn.metrics._plot.confusion_matrix.ConfusionMatrixDisplay at 0x2778e99df30>"
      ]
     },
     "execution_count": 831,
     "metadata": {},
     "output_type": "execute_result"
    },
    {
     "data": {
      "image/png": "[encoded data removed]",
      "text/plain": [
       "<Figure size 640x480 with 2 Axes>"
      ]
     },
     "metadata": {},
     "output_type": "display_data"
    }
   ],
   "source": [
    "model = XGBClassifier()\n",
    "\n",
    "model.fit(X_train, y_train)\n",
    "y_pred = model.predict(X_test)\n",
    "\n",
    "print(classification_report(y_true = y_test, y_pred = y_pred))\n",
    "\n",
    "ConfusionMatrixDisplay.from_estimator(model, X_test, y_test,display_labels=[\"Not Satisfied\", \"Satisfied\"], cmap=\"Blues\")"
   ]
  },
  {
   "cell_type": "markdown",
   "metadata": {},
   "source": [
    "__We will resample the dataset, to balance the classes 1 and 0 <br/>It will help us  deal with the excess samples of class 1 we have__"
   ]
  },
  {
   "cell_type": "code",
   "execution_count": 832,
   "metadata": {},
   "outputs": [
    {
     "data": {
      "text/plain": [
       "((15071, 33), (15071, 33))"
      ]
     },
     "execution_count": 832,
     "metadata": {},
     "output_type": "execute_result"
    }
   ],
   "source": [
    "from sklearn.utils import resample\n",
    "# downsample majority class to be same number of minority samples\n",
    "majority = model_features[model_features['csat_binary'] == 1]\n",
    "minority = model_features[model_features['csat_binary'] == 0]\n",
    "\n",
    "majority_downsampled = resample(\n",
    "                    majority, \n",
    "                    replace=False, \n",
    "                    n_samples=minority.shape[0], \n",
    "                    random_state=42\n",
    "                    )\n",
    "majority_downsampled.shape, minority.shape"
   ]
  },
  {
   "cell_type": "code",
   "execution_count": 833,
   "metadata": {},
   "outputs": [],
   "source": [
    "balanced_data = pd.concat([majority_downsampled, minority])\n",
    "\n",
    "# # Shuffle the dataset\n",
    "balanced_data = balanced_data.sample(frac=1, random_state=42).reset_index(drop=True)\n",
    "\n",
    "# # Separate features and target variable again\n",
    "X_balanced = balanced_data.drop(columns=[\"csat_binary\"], axis=1)\n",
    "y_balanced = balanced_data[\"csat_binary\"]"
   ]
  },
  {
   "cell_type": "code",
   "execution_count": 834,
   "metadata": {},
   "outputs": [],
   "source": [
    "X_train_balanced, X_test_balanced, y_train_balanced, y_test_balanced = train_test_split(X_balanced, y_balanced, test_size=0.2, random_state=92)\n"
   ]
  },
  {
   "cell_type": "markdown",
   "metadata": {},
   "source": [
    "__XGBoost Model__"
   ]
  },
  {
   "cell_type": "code",
   "execution_count": 835,
   "metadata": {},
   "outputs": [
    {
     "name": "stdout",
     "output_type": "stream",
     "text": [
      "Fitting 5 folds for each of 9 candidates, totalling 45 fits\n",
      "best parameters: {'max_depth': 3, 'n_estimators': 50}, best score: 0.6175508135228911\n"
     ]
    }
   ],
   "source": [
    "\n",
    "model_balanced = XGBClassifier()\n",
    "\n",
    "grid_search = GridSearchCV(estimator=model_balanced, param_grid={\n",
    "    \"max_depth\": [3, 5, 7], \n",
    "    \"n_estimators\": [50, 100, 150]}, \n",
    "    cv=5, n_jobs=-1, verbose=2\n",
    "    )\n",
    "\n",
    "grid_search.fit(X_train_balanced, y_train_balanced)\n",
    "\n",
    "grid_search.predict(X_test_balanced)\n",
    "\n",
    "print(f\"best parameters: {grid_search.best_params_}, best score: {grid_search.best_score_}\")\n"
   ]
  },
  {
   "cell_type": "code",
   "execution_count": 836,
   "metadata": {},
   "outputs": [
    {
     "name": "stdout",
     "output_type": "stream",
     "text": [
      "              precision    recall  f1-score   support\n",
      "\n",
      "           0       0.62      0.61      0.62      3022\n",
      "           1       0.61      0.62      0.62      3007\n",
      "\n",
      "    accuracy                           0.62      6029\n",
      "   macro avg       0.62      0.62      0.62      6029\n",
      "weighted avg       0.62      0.62      0.62      6029\n",
      "\n"
     ]
    },
    {
     "data": {
      "text/plain": [
       "<sklearn.metrics._plot.confusion_matrix.ConfusionMatrixDisplay at 0x2778ebfafe0>"
      ]
     },
     "execution_count": 836,
     "metadata": {},
     "output_type": "execute_result"
    },
    {
     "data": {
      "image/png": "[encoded data removed]",
      "text/plain": [
       "<Figure size 640x480 with 2 Axes>"
      ]
     },
     "metadata": {},
     "output_type": "display_data"
    }
   ],
   "source": [
    "\n",
    "print(classification_report(y_test_balanced, grid_search.predict(X_test_balanced)))\n",
    "\n",
    "ConfusionMatrixDisplay.from_estimator(grid_search, \n",
    "                                      X_test_balanced, \n",
    "                                      y_test_balanced, \n",
    "                                      display_labels=[\"Not Satisfied\", \"Satisfied\"], cmap=\"Blues\")\n"
   ]
  },
  {
   "cell_type": "markdown",
   "metadata": {},
   "source": [
    "__Logistic Regression Model__"
   ]
  },
  {
   "cell_type": "code",
   "execution_count": 837,
   "metadata": {},
   "outputs": [
    {
     "name": "stdout",
     "output_type": "stream",
     "text": [
      "Fitting 5 folds for each of 300 candidates, totalling 1500 fits\n",
      "best parameters: {'C': 0.01, 'max_iter': 100, 'penalty': 'l1', 'solver': 'saga'}, best score: 0.5843319886486819\n"
     ]
    }
   ],
   "source": [
    "model_balanced = LogisticRegression()\n",
    "\n",
    "grid_search = GridSearchCV(estimator=model_balanced, param_grid={\n",
    "    \"C\": [0.01, 0.1, 1, 10, 100], \n",
    "    'penalty': ['l1', 'l2', 'elasticnet', 'none'],\n",
    "    'solver': ['newton-cg', 'lbfgs', 'liblinear', 'sag', 'saga'],\n",
    "    'max_iter': [100, 200, 300]\n",
    "    }, \n",
    "    cv=5, n_jobs=-1, verbose=2\n",
    "    )\n",
    "\n",
    "grid_search.fit(X_train_balanced, y_train_balanced)\n",
    "\n",
    "grid_search.predict(X_test_balanced)\n",
    "\n",
    "print(f\"best parameters: {grid_search.best_params_}, best score: {grid_search.best_score_}\")\n"
   ]
  },
  {
   "cell_type": "code",
   "execution_count": 838,
   "metadata": {},
   "outputs": [
    {
     "name": "stdout",
     "output_type": "stream",
     "text": [
      "              precision    recall  f1-score   support\n",
      "\n",
      "           0       0.62      0.44      0.51      3022\n",
      "           1       0.56      0.73      0.64      3007\n",
      "\n",
      "    accuracy                           0.58      6029\n",
      "   macro avg       0.59      0.58      0.57      6029\n",
      "weighted avg       0.59      0.58      0.57      6029\n",
      "\n"
     ]
    },
    {
     "data": {
      "text/plain": [
       "<sklearn.metrics._plot.confusion_matrix.ConfusionMatrixDisplay at 0x277912b2200>"
      ]
     },
     "execution_count": 838,
     "metadata": {},
     "output_type": "execute_result"
    },
    {
     "data": {
      "image/png": "[encoded data removed]",
      "text/plain": [
       "<Figure size 640x480 with 2 Axes>"
      ]
     },
     "metadata": {},
     "output_type": "display_data"
    }
   ],
   "source": [
    "print(classification_report(y_test_balanced, grid_search.predict(X_test_balanced)))\n",
    "\n",
    "ConfusionMatrixDisplay.from_estimator(grid_search, \n",
    "                                      X_test_balanced, \n",
    "                                      y_test_balanced, \n",
    "                                      display_labels=[\"Not Satisfied\", \"Satisfied\"], cmap=\"Blues\")"
   ]
  },
  {
   "cell_type": "markdown",
   "metadata": {},
   "source": [
    "__Random Forest Classifier__"
   ]
  },
  {
   "cell_type": "code",
   "execution_count": 839,
   "metadata": {},
   "outputs": [
    {
     "name": "stdout",
     "output_type": "stream",
     "text": [
      "Fitting 5 folds for each of 324 candidates, totalling 1620 fits\n",
      "best parameters: {'max_depth': 10, 'max_features': 'log2', 'min_samples_leaf': 4, 'min_samples_split': 5, 'n_estimators': 200}, best score: 0.6199560501478596\n"
     ]
    }
   ],
   "source": [
    "model_balanced = RandomForestClassifier()\n",
    "\n",
    "grid_search = GridSearchCV(estimator=model_balanced, param_grid={\n",
    "    'n_estimators': [100, 200, 300],\n",
    "    'max_depth': [None, 10, 20, 30],\n",
    "    'min_samples_split': [2, 5, 10],\n",
    "    'min_samples_leaf': [1, 2, 4],\n",
    "    'max_features': ['auto', 'sqrt', 'log2']\n",
    "    }, \n",
    "    cv=5, n_jobs=-1, verbose=2\n",
    "    )\n",
    "\n",
    "grid_search.fit(X_train_balanced, y_train_balanced)\n",
    "\n",
    "grid_search.predict(X_test_balanced)\n",
    "\n",
    "print(f\"best parameters: {grid_search.best_params_}, best score: {grid_search.best_score_}\")"
   ]
  },
  {
   "cell_type": "code",
   "execution_count": 840,
   "metadata": {},
   "outputs": [
    {
     "name": "stdout",
     "output_type": "stream",
     "text": [
      "              precision    recall  f1-score   support\n",
      "\n",
      "           0       0.62      0.61      0.61      3022\n",
      "           1       0.61      0.63      0.62      3007\n",
      "\n",
      "    accuracy                           0.62      6029\n",
      "   macro avg       0.62      0.62      0.62      6029\n",
      "weighted avg       0.62      0.62      0.62      6029\n",
      "\n"
     ]
    },
    {
     "data": {
      "text/plain": [
       "<sklearn.metrics._plot.confusion_matrix.ConfusionMatrixDisplay at 0x27795c1a770>"
      ]
     },
     "execution_count": 840,
     "metadata": {},
     "output_type": "execute_result"
    },
    {
     "data": {
      "image/png": "[encoded data removed]",
      "text/plain": [
       "<Figure size 640x480 with 2 Axes>"
      ]
     },
     "metadata": {},
     "output_type": "display_data"
    }
   ],
   "source": [
    "print(classification_report(y_test_balanced, grid_search.predict(X_test_balanced)))\n",
    "\n",
    "ConfusionMatrixDisplay.from_estimator(grid_search, \n",
    "                                      X_test_balanced, \n",
    "                                      y_test_balanced, \n",
    "                                      display_labels=[\"Not Satisfied\", \"Satisfied\"], cmap=\"Blues\")"
   ]
  }
 ],
 "metadata": {
  "kernelspec": {
   "display_name": "base",
   "language": "python",
   "name": "python3"
  },
  "language_info": {
   "codemirror_mode": {
    "name": "ipython",
    "version": 3
   },
   "file_extension": ".py",
   "mimetype": "text/x-python",
   "name": "python",
   "nbconvert_exporter": "python",
   "pygments_lexer": "ipython3",
   "version": "3.10.9"
  }
 },
 "nbformat": 4,
 "nbformat_minor": 2
}
