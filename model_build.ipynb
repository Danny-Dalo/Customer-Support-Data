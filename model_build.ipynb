{
 "cells": [
  {
   "cell_type": "markdown",
   "metadata": {},
   "source": [
    "## Building out a model"
   ]
  },
  {
   "cell_type": "code",
   "execution_count": 321,
   "metadata": {},
   "outputs": [],
   "source": [
    "import pandas as pd\n",
    "import matplotlib.pylab as plt\n",
    "import numpy as np\n",
    "import seaborn as sns\n",
    "import warnings\n",
    "warnings.filterwarnings('ignore')\n",
    "\n",
    "from sklearn.preprocessing import OneHotEncoder, LabelEncoder, StandardScaler\n",
    "from sklearn.model_selection import train_test_split, GridSearchCV\n",
    "from sklearn.ensemble import RandomForestClassifier\n",
    "from sklearn.metrics import accuracy_score, confusion_matrix, classification_report\n",
    "from sklearn.linear_model import LogisticRegression\n",
    "from xgboost import XGBClassifier\n",
    "\n"
   ]
  },
  {
   "cell_type": "code",
   "execution_count": 322,
   "metadata": {},
   "outputs": [],
   "source": [
    "model_features = pd.read_csv(\"C:/Users/HP/OneDrive/Documents/DANNY DATA/Customer Support Data/model_data.csv\")"
   ]
  },
  {
   "cell_type": "code",
   "execution_count": 323,
   "metadata": {},
   "outputs": [
    {
     "data": {
      "text/html": [
       "<div>\n",
       "<style scoped>\n",
       "    .dataframe tbody tr th:only-of-type {\n",
       "        vertical-align: middle;\n",
       "    }\n",
       "\n",
       "    .dataframe tbody tr th {\n",
       "        vertical-align: top;\n",
       "    }\n",
       "\n",
       "    .dataframe thead th {\n",
       "        text-align: right;\n",
       "    }\n",
       "</style>\n",
       "<table border=\"1\" class=\"dataframe\">\n",
       "  <thead>\n",
       "    <tr style=\"text-align: right;\">\n",
       "      <th></th>\n",
       "      <th>channel_name</th>\n",
       "      <th>response_time_(hours)</th>\n",
       "      <th>report_day_name</th>\n",
       "      <th>report_month_day</th>\n",
       "      <th>response_month_day</th>\n",
       "      <th>response_day_name</th>\n",
       "      <th>manager</th>\n",
       "      <th>tenure_bucket</th>\n",
       "      <th>agent_shift</th>\n",
       "      <th>csat_score</th>\n",
       "    </tr>\n",
       "  </thead>\n",
       "  <tbody>\n",
       "    <tr>\n",
       "      <th>0</th>\n",
       "      <td>Outcall</td>\n",
       "      <td>0.566667</td>\n",
       "      <td>Tuesday</td>\n",
       "      <td>1</td>\n",
       "      <td>1</td>\n",
       "      <td>Tuesday</td>\n",
       "      <td>Jennifer Nguyen</td>\n",
       "      <td>On Job Training</td>\n",
       "      <td>Morning</td>\n",
       "      <td>5</td>\n",
       "    </tr>\n",
       "    <tr>\n",
       "      <th>1</th>\n",
       "      <td>Outcall</td>\n",
       "      <td>0.033333</td>\n",
       "      <td>Tuesday</td>\n",
       "      <td>1</td>\n",
       "      <td>1</td>\n",
       "      <td>Tuesday</td>\n",
       "      <td>Michael Lee</td>\n",
       "      <td>&gt;90</td>\n",
       "      <td>Morning</td>\n",
       "      <td>5</td>\n",
       "    </tr>\n",
       "    <tr>\n",
       "      <th>2</th>\n",
       "      <td>Inbound</td>\n",
       "      <td>0.366667</td>\n",
       "      <td>Tuesday</td>\n",
       "      <td>1</td>\n",
       "      <td>1</td>\n",
       "      <td>Tuesday</td>\n",
       "      <td>William Kim</td>\n",
       "      <td>On Job Training</td>\n",
       "      <td>Evening</td>\n",
       "      <td>5</td>\n",
       "    </tr>\n",
       "    <tr>\n",
       "      <th>3</th>\n",
       "      <td>Inbound</td>\n",
       "      <td>0.333333</td>\n",
       "      <td>Tuesday</td>\n",
       "      <td>1</td>\n",
       "      <td>1</td>\n",
       "      <td>Tuesday</td>\n",
       "      <td>John Smith</td>\n",
       "      <td>&gt;90</td>\n",
       "      <td>Evening</td>\n",
       "      <td>5</td>\n",
       "    </tr>\n",
       "    <tr>\n",
       "      <th>4</th>\n",
       "      <td>Inbound</td>\n",
       "      <td>0.033333</td>\n",
       "      <td>Tuesday</td>\n",
       "      <td>1</td>\n",
       "      <td>1</td>\n",
       "      <td>Tuesday</td>\n",
       "      <td>Michael Lee</td>\n",
       "      <td>0-30</td>\n",
       "      <td>Morning</td>\n",
       "      <td>5</td>\n",
       "    </tr>\n",
       "  </tbody>\n",
       "</table>\n",
       "</div>"
      ],
      "text/plain": [
       "  channel_name  response_time_(hours) report_day_name  report_month_day  \\\n",
       "0      Outcall               0.566667         Tuesday                 1   \n",
       "1      Outcall               0.033333         Tuesday                 1   \n",
       "2      Inbound               0.366667         Tuesday                 1   \n",
       "3      Inbound               0.333333         Tuesday                 1   \n",
       "4      Inbound               0.033333         Tuesday                 1   \n",
       "\n",
       "   response_month_day response_day_name          manager    tenure_bucket  \\\n",
       "0                   1           Tuesday  Jennifer Nguyen  On Job Training   \n",
       "1                   1           Tuesday      Michael Lee              >90   \n",
       "2                   1           Tuesday      William Kim  On Job Training   \n",
       "3                   1           Tuesday       John Smith              >90   \n",
       "4                   1           Tuesday      Michael Lee             0-30   \n",
       "\n",
       "  agent_shift  csat_score  \n",
       "0     Morning           5  \n",
       "1     Morning           5  \n",
       "2     Evening           5  \n",
       "3     Evening           5  \n",
       "4     Morning           5  "
      ]
     },
     "execution_count": 323,
     "metadata": {},
     "output_type": "execute_result"
    }
   ],
   "source": [
    "columns_to_drop = [\"category\", \"sub-category\", \"issue_reported_at\", \"issue_responded\", \"response_time_(minutes)\", \n",
    "                   \"response_time_(seconds)\", \"time_of_issue\", \"time_of_response\", \"agent_name\", \"supervisor\"]\n",
    "\n",
    "model_features.drop(columns=columns_to_drop, axis=1, inplace=True)\n",
    "model_features.head()"
   ]
  },
  {
   "cell_type": "code",
   "execution_count": 324,
   "metadata": {},
   "outputs": [
    {
     "data": {
      "text/plain": [
       "Index(['channel_name', 'response_time_(hours)', 'report_day_name',\n",
       "       'report_month_day', 'response_month_day', 'response_day_name',\n",
       "       'manager', 'tenure_bucket', 'agent_shift', 'csat_score'],\n",
       "      dtype='object')"
      ]
     },
     "execution_count": 324,
     "metadata": {},
     "output_type": "execute_result"
    }
   ],
   "source": [
    "model_features.columns"
   ]
  },
  {
   "cell_type": "code",
   "execution_count": null,
   "metadata": {},
   "outputs": [],
   "source": []
  },
  {
   "cell_type": "code",
   "execution_count": 325,
   "metadata": {},
   "outputs": [],
   "source": [
    "from sklearn.preprocessing import OneHotEncoder, LabelEncoder, StandardScaler\n",
    "label_encoder = LabelEncoder()\n",
    "one_hot_encoder = OneHotEncoder()"
   ]
  },
  {
   "cell_type": "code",
   "execution_count": 326,
   "metadata": {},
   "outputs": [],
   "source": [
    "scale_features = [\"response_time_(hours)\", \"report_month_day\", \"response_month_day\"]\n",
    "\n",
    "# one-hot encoding, no inhherent order\n",
    "model_features = pd.get_dummies(model_features, columns=[\"channel_name\", \"manager\", \"agent_shift\", \"report_day_name\", \"response_day_name\"])\n",
    "\n",
    "# Inherent  order is present\n",
    "model_features[\"tenure_bucket\"] = label_encoder.fit_transform(model_features[\"tenure_bucket\"])"
   ]
  },
  {
   "cell_type": "code",
   "execution_count": 327,
   "metadata": {},
   "outputs": [
    {
     "data": {
      "text/plain": [
       "Index(['response_time_(hours)', 'report_month_day', 'response_month_day',\n",
       "       'tenure_bucket', 'csat_score', 'channel_name_Email',\n",
       "       'channel_name_Inbound', 'channel_name_Outcall', 'manager_Emily Chen',\n",
       "       'manager_Jennifer Nguyen', 'manager_John Smith', 'manager_Michael Lee',\n",
       "       'manager_Olivia Tan', 'manager_William Kim', 'agent_shift_Afternoon',\n",
       "       'agent_shift_Evening', 'agent_shift_Morning', 'agent_shift_Night',\n",
       "       'agent_shift_Split', 'report_day_name_Friday', 'report_day_name_Monday',\n",
       "       'report_day_name_Saturday', 'report_day_name_Sunday',\n",
       "       'report_day_name_Thursday', 'report_day_name_Tuesday',\n",
       "       'report_day_name_Wednesday', 'response_day_name_Friday',\n",
       "       'response_day_name_Monday', 'response_day_name_Saturday',\n",
       "       'response_day_name_Sunday', 'response_day_name_Thursday',\n",
       "       'response_day_name_Tuesday', 'response_day_name_Wednesday'],\n",
       "      dtype='object')"
      ]
     },
     "execution_count": 327,
     "metadata": {},
     "output_type": "execute_result"
    }
   ],
   "source": [
    "model_features.columns"
   ]
  },
  {
   "cell_type": "code",
   "execution_count": 328,
   "metadata": {},
   "outputs": [],
   "source": [
    "model_features[\"csat_binary\"] = model_features[\"csat_score\"].apply(lambda x: 1 if x > 3.7 else 0)\n",
    "model_features.drop(columns=[\"csat_score\"], axis=1, inplace=True)"
   ]
  },
  {
   "cell_type": "code",
   "execution_count": 329,
   "metadata": {},
   "outputs": [],
   "source": [
    "X = model_features.drop(columns=[\"csat_binary\"], axis=1)\n",
    "y = model_features[\"csat_binary\"]\n",
    "\n",
    "X_train, X_test, y_train, y_test = train_test_split(X, y, test_size=0.2, random_state=42)\n",
    "\n"
   ]
  },
  {
   "cell_type": "code",
   "execution_count": null,
   "metadata": {},
   "outputs": [],
   "source": []
  }
 ],
 "metadata": {
  "kernelspec": {
   "display_name": "base",
   "language": "python",
   "name": "python3"
  },
  "language_info": {
   "codemirror_mode": {
    "name": "ipython",
    "version": 3
   },
   "file_extension": ".py",
   "mimetype": "text/x-python",
   "name": "python",
   "nbconvert_exporter": "python",
   "pygments_lexer": "ipython3",
   "version": "3.10.9"
  }
 },
 "nbformat": 4,
 "nbformat_minor": 2
}
