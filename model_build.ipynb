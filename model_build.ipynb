{
 "cells": [
  {
   "cell_type": "markdown",
   "metadata": {},
   "source": [
    "## Building out a model"
   ]
  },
  {
   "cell_type": "code",
   "execution_count": 18,
   "metadata": {},
   "outputs": [],
   "source": [
    "import pandas as pd\n",
    "import warnings\n",
    "warnings.filterwarnings('ignore')"
   ]
  },
  {
   "cell_type": "code",
   "execution_count": 19,
   "metadata": {},
   "outputs": [],
   "source": [
    "model_features = pd.read_csv(\"C:/Users/HP/OneDrive/Documents/DANNY DATA/Customer Support Data/model_data.csv\")"
   ]
  },
  {
   "cell_type": "code",
   "execution_count": 20,
   "metadata": {},
   "outputs": [
    {
     "data": {
      "text/html": [
       "<div>\n",
       "<style scoped>\n",
       "    .dataframe tbody tr th:only-of-type {\n",
       "        vertical-align: middle;\n",
       "    }\n",
       "\n",
       "    .dataframe tbody tr th {\n",
       "        vertical-align: top;\n",
       "    }\n",
       "\n",
       "    .dataframe thead th {\n",
       "        text-align: right;\n",
       "    }\n",
       "</style>\n",
       "<table border=\"1\" class=\"dataframe\">\n",
       "  <thead>\n",
       "    <tr style=\"text-align: right;\">\n",
       "      <th></th>\n",
       "      <th>channel_name</th>\n",
       "      <th>response_time_(hours)</th>\n",
       "      <th>report_day_name</th>\n",
       "      <th>report_month_day</th>\n",
       "      <th>response_month_day</th>\n",
       "      <th>response_day_name</th>\n",
       "      <th>manager</th>\n",
       "      <th>tenure_bucket</th>\n",
       "      <th>agent_shift</th>\n",
       "      <th>csat_score</th>\n",
       "    </tr>\n",
       "  </thead>\n",
       "  <tbody>\n",
       "    <tr>\n",
       "      <th>0</th>\n",
       "      <td>Outcall</td>\n",
       "      <td>0.566667</td>\n",
       "      <td>Tuesday</td>\n",
       "      <td>1</td>\n",
       "      <td>1</td>\n",
       "      <td>Tuesday</td>\n",
       "      <td>Jennifer Nguyen</td>\n",
       "      <td>On Job Training</td>\n",
       "      <td>Morning</td>\n",
       "      <td>5</td>\n",
       "    </tr>\n",
       "    <tr>\n",
       "      <th>1</th>\n",
       "      <td>Outcall</td>\n",
       "      <td>0.033333</td>\n",
       "      <td>Tuesday</td>\n",
       "      <td>1</td>\n",
       "      <td>1</td>\n",
       "      <td>Tuesday</td>\n",
       "      <td>Michael Lee</td>\n",
       "      <td>&gt;90</td>\n",
       "      <td>Morning</td>\n",
       "      <td>5</td>\n",
       "    </tr>\n",
       "    <tr>\n",
       "      <th>2</th>\n",
       "      <td>Inbound</td>\n",
       "      <td>0.366667</td>\n",
       "      <td>Tuesday</td>\n",
       "      <td>1</td>\n",
       "      <td>1</td>\n",
       "      <td>Tuesday</td>\n",
       "      <td>William Kim</td>\n",
       "      <td>On Job Training</td>\n",
       "      <td>Evening</td>\n",
       "      <td>5</td>\n",
       "    </tr>\n",
       "    <tr>\n",
       "      <th>3</th>\n",
       "      <td>Inbound</td>\n",
       "      <td>0.333333</td>\n",
       "      <td>Tuesday</td>\n",
       "      <td>1</td>\n",
       "      <td>1</td>\n",
       "      <td>Tuesday</td>\n",
       "      <td>John Smith</td>\n",
       "      <td>&gt;90</td>\n",
       "      <td>Evening</td>\n",
       "      <td>5</td>\n",
       "    </tr>\n",
       "    <tr>\n",
       "      <th>4</th>\n",
       "      <td>Inbound</td>\n",
       "      <td>0.033333</td>\n",
       "      <td>Tuesday</td>\n",
       "      <td>1</td>\n",
       "      <td>1</td>\n",
       "      <td>Tuesday</td>\n",
       "      <td>Michael Lee</td>\n",
       "      <td>0-30</td>\n",
       "      <td>Morning</td>\n",
       "      <td>5</td>\n",
       "    </tr>\n",
       "  </tbody>\n",
       "</table>\n",
       "</div>"
      ],
      "text/plain": [
       "  channel_name  response_time_(hours) report_day_name  report_month_day  \\\n",
       "0      Outcall               0.566667         Tuesday                 1   \n",
       "1      Outcall               0.033333         Tuesday                 1   \n",
       "2      Inbound               0.366667         Tuesday                 1   \n",
       "3      Inbound               0.333333         Tuesday                 1   \n",
       "4      Inbound               0.033333         Tuesday                 1   \n",
       "\n",
       "   response_month_day response_day_name          manager    tenure_bucket  \\\n",
       "0                   1           Tuesday  Jennifer Nguyen  On Job Training   \n",
       "1                   1           Tuesday      Michael Lee              >90   \n",
       "2                   1           Tuesday      William Kim  On Job Training   \n",
       "3                   1           Tuesday       John Smith              >90   \n",
       "4                   1           Tuesday      Michael Lee             0-30   \n",
       "\n",
       "  agent_shift  csat_score  \n",
       "0     Morning           5  \n",
       "1     Morning           5  \n",
       "2     Evening           5  \n",
       "3     Evening           5  \n",
       "4     Morning           5  "
      ]
     },
     "execution_count": 20,
     "metadata": {},
     "output_type": "execute_result"
    }
   ],
   "source": [
    "columns_to_drop = [\"category\", \"sub-category\", \"issue_reported_at\", \"issue_responded\", \"response_time_(minutes)\", \n",
    "                   \"response_time_(seconds)\", \"time_of_issue\", \"time_of_response\", \"agent_name\", \"supervisor\"]\n",
    "\n",
    "model_features.drop(columns=columns_to_drop, axis=1, inplace=True)\n",
    "model_features.head()"
   ]
  },
  {
   "cell_type": "code",
   "execution_count": 21,
   "metadata": {},
   "outputs": [
    {
     "data": {
      "text/plain": [
       "Index(['channel_name', 'response_time_(hours)', 'report_day_name',\n",
       "       'report_month_day', 'response_month_day', 'response_day_name',\n",
       "       'manager', 'tenure_bucket', 'agent_shift', 'csat_score'],\n",
       "      dtype='object')"
      ]
     },
     "execution_count": 21,
     "metadata": {},
     "output_type": "execute_result"
    }
   ],
   "source": [
    "model_features.columns"
   ]
  },
  {
   "cell_type": "code",
   "execution_count": 22,
   "metadata": {},
   "outputs": [],
   "source": [
    "from sklearn.preprocessing import OneHotEncoder, LabelEncoder\n",
    "label_encoder = LabelEncoder()\n",
    "one_hot_encoder = OneHotEncoder()"
   ]
  },
  {
   "cell_type": "code",
   "execution_count": 23,
   "metadata": {},
   "outputs": [],
   "source": [
    "scale_features = [\"response_time_(hours)\", \"report_month_day\", \"response_month_day\"]\n",
    "\n",
    "# one-hot encoding, no inhherent order\n",
    "model_features = pd.get_dummies(model_features, columns=[\"channel_name\", \"manager\", \"agent_shift\", \"report_day_name\", \"response_day_name\"])\n",
    "\n",
    "# Inherent  order is present\n",
    "model_features[\"tenure_bucket\"] = label_encoder.fit_transform(model_features[\"tenure_bucket\"])"
   ]
  },
  {
   "cell_type": "code",
   "execution_count": 24,
   "metadata": {},
   "outputs": [
    {
     "data": {
      "text/plain": [
       "Index(['response_time_(hours)', 'report_month_day', 'response_month_day',\n",
       "       'tenure_bucket', 'csat_score', 'channel_name_Email',\n",
       "       'channel_name_Inbound', 'channel_name_Outcall', 'manager_Emily Chen',\n",
       "       'manager_Jennifer Nguyen', 'manager_John Smith', 'manager_Michael Lee',\n",
       "       'manager_Olivia Tan', 'manager_William Kim', 'agent_shift_Afternoon',\n",
       "       'agent_shift_Evening', 'agent_shift_Morning', 'agent_shift_Night',\n",
       "       'agent_shift_Split', 'report_day_name_Friday', 'report_day_name_Monday',\n",
       "       'report_day_name_Saturday', 'report_day_name_Sunday',\n",
       "       'report_day_name_Thursday', 'report_day_name_Tuesday',\n",
       "       'report_day_name_Wednesday', 'response_day_name_Friday',\n",
       "       'response_day_name_Monday', 'response_day_name_Saturday',\n",
       "       'response_day_name_Sunday', 'response_day_name_Thursday',\n",
       "       'response_day_name_Tuesday', 'response_day_name_Wednesday'],\n",
       "      dtype='object')"
      ]
     },
     "execution_count": 24,
     "metadata": {},
     "output_type": "execute_result"
    }
   ],
   "source": [
    "model_features.columns"
   ]
  },
  {
   "cell_type": "code",
   "execution_count": 25,
   "metadata": {},
   "outputs": [
    {
     "name": "stdout",
     "output_type": "stream",
     "text": [
      "X_train shape: (68725, 32)\n",
      "X_test shape: (17182, 32)\n",
      "y_train shape: (68725,)\n",
      "y_test shape: (17182,)\n"
     ]
    }
   ],
   "source": [
    "from sklearn.model_selection import train_test_split, GridSearchCV\n",
    "\n",
    "X = model_features.drop(\"csat_score\", axis=1)\n",
    "y = model_features[\"csat_score\"]\n",
    "\n",
    "X_train, X_test, y_train, y_test = train_test_split(X, y, train_size = 0.8, random_state = 42) \n",
    "\n",
    "print(f\"X_train shape: {X_train.shape}\")\n",
    "print(f\"X_test shape: {X_test.shape}\")\n",
    "print(f\"y_train shape: {y_train.shape}\")\n",
    "print(f\"y_test shape: {y_test.shape}\")"
   ]
  },
  {
   "cell_type": "markdown",
   "metadata": {},
   "source": [
    "## Picking Our Models"
   ]
  },
  {
   "cell_type": "code",
   "execution_count": 26,
   "metadata": {},
   "outputs": [],
   "source": [
    "from sklearn.linear_model import LogisticRegression\n",
    "from sklearn.ensemble import RandomForestClassifier\n",
    "from sklearn.metrics import classification_report"
   ]
  },
  {
   "cell_type": "code",
   "execution_count": 27,
   "metadata": {},
   "outputs": [],
   "source": [
    "model_grid = {\n",
    "\n",
    "    \"LogisticRegression\" : {\n",
    "        \"C\" : [0.1, 1, 10]\n",
    "    },\n",
    "    \n",
    "\n",
    "    \"RandomForestClassifier\" : {\n",
    "        'n_estimators': [100, 200, 300],\n",
    "        'max_depth': [None, 10, 20],\n",
    "        'min_samples_split': [2, 5, 10]\n",
    "    }\n",
    "}"
   ]
  },
  {
   "cell_type": "markdown",
   "metadata": {},
   "source": [
    "1. Rabdom Forest"
   ]
  },
  {
   "cell_type": "code",
   "execution_count": 28,
   "metadata": {},
   "outputs": [],
   "source": [
    "logistic_model = LogisticRegression(class_weight=\"balanced\", C=1)\n",
    "rand_forest_model = RandomForestClassifier(class_weight=\"balanced\")\n",
    "\n",
    "\n",
    "\n",
    "\n",
    "# grid_search = GridSearchCV(estimator=rand_forest_model, param_grid=model_grid[\"RandomForestClassifier\"], cv=10)\n",
    "\n",
    "# grid_search.fit(X_train, y_train)\n",
    "\n",
    "# print(grid_search.best_params_)\n",
    "\n",
    "# print(grid_search.best_score_)\n",
    "\n",
    "\n",
    "\n"
   ]
  },
  {
   "cell_type": "code",
   "execution_count": 29,
   "metadata": {},
   "outputs": [],
   "source": [
    "logistic_model.fit(X_train, y_train)\n",
    "prediction = logistic_model.predict(X_test)\n",
    "\n"
   ]
  },
  {
   "cell_type": "code",
   "execution_count": 30,
   "metadata": {},
   "outputs": [
    {
     "name": "stdout",
     "output_type": "stream",
     "text": [
      "              precision    recall  f1-score   support\n",
      "\n",
      "           1       0.22      0.28      0.24      2241\n",
      "           2       0.01      0.14      0.02       227\n",
      "           3       0.03      0.17      0.06       503\n",
      "           4       0.14      0.16      0.15      2277\n",
      "           5       0.75      0.43      0.55     11934\n",
      "\n",
      "    accuracy                           0.36     17182\n",
      "   macro avg       0.23      0.24      0.21     17182\n",
      "weighted avg       0.57      0.36      0.43     17182\n",
      "\n"
     ]
    }
   ],
   "source": [
    "print(classification_report(y_true=y_test, y_pred=prediction))"
   ]
  }
 ],
 "metadata": {
  "kernelspec": {
   "display_name": "base",
   "language": "python",
   "name": "python3"
  },
  "language_info": {
   "codemirror_mode": {
    "name": "ipython",
    "version": 3
   },
   "file_extension": ".py",
   "mimetype": "text/x-python",
   "name": "python",
   "nbconvert_exporter": "python",
   "pygments_lexer": "ipython3",
   "version": "3.10.9"
  }
 },
 "nbformat": 4,
 "nbformat_minor": 2
}
